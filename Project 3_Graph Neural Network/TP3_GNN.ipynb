{
 "cells": [
  {
   "cell_type": "markdown",
   "metadata": {
    "id": "nlCNZsWlOSfP"
   },
   "source": [
    "# Practical Session on Graph Neural Networks\n",
    "\n",
    "**by Matthieu Nastorg**"
   ]
  },
  {
   "cell_type": "markdown",
   "metadata": {
    "id": "p0RMEfCaEehI"
   },
   "source": [
    "## **PART 1 : CODING** (8/20)"
   ]
  },
  {
   "cell_type": "markdown",
   "metadata": {
    "id": "v5Lp4PasOby4"
   },
   "source": [
    "### Install Pytorch Geometric\n",
    "\n",
    "To handle graph data, we use the library Pytorch Geometric : https://pytorch-geometric.readthedocs.io/en/latest/\n",
    "\n",
    "*   If you use _Google Colab_, simply run the following cell to install Pytorch Geometric (**advised**).\n",
    "*   If you plan using your _own environment_, follow the documentation to install Pytorch Geometric : https://pytorch-geometric.readthedocs.io/en/latest/install/installation.html and skip the following cell."
   ]
  },
  {
   "cell_type": "code",
   "execution_count": null,
   "metadata": {
    "colab": {
     "base_uri": "https://localhost:8080/"
    },
    "id": "buW3eZmrj1N2",
    "outputId": "2bc70b0f-7224-41ab-c2ac-18d9adc44adf"
   },
   "outputs": [
    {
     "name": "stdout",
     "output_type": "stream",
     "text": [
      "Looking in indexes: https://pypi.org/simple, https://us-python.pkg.dev/colab-wheels/public/simple/\n",
      "Looking in links: https://pytorch-geometric.com/whl/torch-1.13.1+cu116.html\n",
      "Collecting torch-scatter\n",
      "  Downloading https://data.pyg.org/whl/torch-1.13.0%2Bcu116/torch_scatter-2.1.0%2Bpt113cu116-cp39-cp39-linux_x86_64.whl (9.4 MB)\n",
      "\u001b[2K     \u001b[90m━━━━━━━━━━━━━━━━━━━━━━━━━━━━━━━━━━━━━━━━\u001b[0m \u001b[32m9.4/9.4 MB\u001b[0m \u001b[31m56.5 MB/s\u001b[0m eta \u001b[36m0:00:00\u001b[0m\n",
      "\u001b[?25hInstalling collected packages: torch-scatter\n",
      "Successfully installed torch-scatter-2.1.0+pt113cu116\n",
      "Looking in indexes: https://pypi.org/simple, https://us-python.pkg.dev/colab-wheels/public/simple/\n",
      "Looking in links: https://pytorch-geometric.com/whl/torch-1.13.1+cu116.html\n",
      "Collecting torch-sparse\n",
      "  Downloading https://data.pyg.org/whl/torch-1.13.0%2Bcu116/torch_sparse-0.6.16%2Bpt113cu116-cp39-cp39-linux_x86_64.whl (4.5 MB)\n",
      "\u001b[2K     \u001b[90m━━━━━━━━━━━━━━━━━━━━━━━━━━━━━━━━━━━━━━━━\u001b[0m \u001b[32m4.5/4.5 MB\u001b[0m \u001b[31m16.6 MB/s\u001b[0m eta \u001b[36m0:00:00\u001b[0m\n",
      "\u001b[?25hRequirement already satisfied: scipy in /usr/local/lib/python3.9/dist-packages (from torch-sparse) (1.10.1)\n",
      "Requirement already satisfied: numpy<1.27.0,>=1.19.5 in /usr/local/lib/python3.9/dist-packages (from scipy->torch-sparse) (1.22.4)\n",
      "Installing collected packages: torch-sparse\n",
      "Successfully installed torch-sparse-0.6.16+pt113cu116\n",
      "Looking in indexes: https://pypi.org/simple, https://us-python.pkg.dev/colab-wheels/public/simple/\n",
      "Looking in links: https://pytorch-geometric.com/whl/torch-1.13.1+cu116.html\n",
      "Collecting torch-cluster\n",
      "  Downloading https://data.pyg.org/whl/torch-1.13.0%2Bcu116/torch_cluster-1.6.0%2Bpt113cu116-cp39-cp39-linux_x86_64.whl (3.2 MB)\n",
      "\u001b[2K     \u001b[90m━━━━━━━━━━━━━━━━━━━━━━━━━━━━━━━━━━━━━━━━\u001b[0m \u001b[32m3.2/3.2 MB\u001b[0m \u001b[31m1.0 MB/s\u001b[0m eta \u001b[36m0:00:00\u001b[0m\n",
      "\u001b[?25hRequirement already satisfied: scipy in /usr/local/lib/python3.9/dist-packages (from torch-cluster) (1.10.1)\n",
      "Requirement already satisfied: numpy<1.27.0,>=1.19.5 in /usr/local/lib/python3.9/dist-packages (from scipy->torch-cluster) (1.22.4)\n",
      "Installing collected packages: torch-cluster\n",
      "Successfully installed torch-cluster-1.6.0+pt113cu116\n",
      "Looking in indexes: https://pypi.org/simple, https://us-python.pkg.dev/colab-wheels/public/simple/\n",
      "Looking in links: https://pytorch-geometric.com/whl/torch-1.13.1+cu116.html\n",
      "Collecting torch-spline-conv\n",
      "  Downloading https://data.pyg.org/whl/torch-1.13.0%2Bcu116/torch_spline_conv-1.2.1%2Bpt113cu116-cp39-cp39-linux_x86_64.whl (874 kB)\n",
      "\u001b[2K     \u001b[90m━━━━━━━━━━━━━━━━━━━━━━━━━━━━━━━━━━━━━━\u001b[0m \u001b[32m874.7/874.7 KB\u001b[0m \u001b[31m42.6 MB/s\u001b[0m eta \u001b[36m0:00:00\u001b[0m\n",
      "\u001b[?25hInstalling collected packages: torch-spline-conv\n",
      "Successfully installed torch-spline-conv-1.2.1+pt113cu116\n",
      "Looking in indexes: https://pypi.org/simple, https://us-python.pkg.dev/colab-wheels/public/simple/\n",
      "Collecting torch-geometric\n",
      "  Downloading torch_geometric-2.2.0.tar.gz (564 kB)\n",
      "\u001b[2K     \u001b[90m━━━━━━━━━━━━━━━━━━━━━━━━━━━━━━━━━━━━━━\u001b[0m \u001b[32m565.0/565.0 KB\u001b[0m \u001b[31m40.7 MB/s\u001b[0m eta \u001b[36m0:00:00\u001b[0m\n",
      "\u001b[?25h  Preparing metadata (setup.py) ... \u001b[?25l\u001b[?25hdone\n",
      "Requirement already satisfied: tqdm in /usr/local/lib/python3.9/dist-packages (from torch-geometric) (4.65.0)\n",
      "Requirement already satisfied: numpy in /usr/local/lib/python3.9/dist-packages (from torch-geometric) (1.22.4)\n",
      "Requirement already satisfied: scipy in /usr/local/lib/python3.9/dist-packages (from torch-geometric) (1.10.1)\n",
      "Requirement already satisfied: jinja2 in /usr/local/lib/python3.9/dist-packages (from torch-geometric) (3.1.2)\n",
      "Requirement already satisfied: requests in /usr/local/lib/python3.9/dist-packages (from torch-geometric) (2.25.1)\n",
      "Requirement already satisfied: pyparsing in /usr/local/lib/python3.9/dist-packages (from torch-geometric) (3.0.9)\n",
      "Requirement already satisfied: scikit-learn in /usr/local/lib/python3.9/dist-packages (from torch-geometric) (1.2.1)\n",
      "Collecting psutil>=5.8.0\n",
      "  Downloading psutil-5.9.4-cp36-abi3-manylinux_2_12_x86_64.manylinux2010_x86_64.manylinux_2_17_x86_64.manylinux2014_x86_64.whl (280 kB)\n",
      "\u001b[2K     \u001b[90m━━━━━━━━━━━━━━━━━━━━━━━━━━━━━━━━━━━━━━\u001b[0m \u001b[32m280.2/280.2 KB\u001b[0m \u001b[31m34.9 MB/s\u001b[0m eta \u001b[36m0:00:00\u001b[0m\n",
      "\u001b[?25hRequirement already satisfied: MarkupSafe>=2.0 in /usr/local/lib/python3.9/dist-packages (from jinja2->torch-geometric) (2.1.2)\n",
      "Requirement already satisfied: certifi>=2017.4.17 in /usr/local/lib/python3.9/dist-packages (from requests->torch-geometric) (2022.12.7)\n",
      "Requirement already satisfied: idna<3,>=2.5 in /usr/local/lib/python3.9/dist-packages (from requests->torch-geometric) (2.10)\n",
      "Requirement already satisfied: chardet<5,>=3.0.2 in /usr/local/lib/python3.9/dist-packages (from requests->torch-geometric) (4.0.0)\n",
      "Requirement already satisfied: urllib3<1.27,>=1.21.1 in /usr/local/lib/python3.9/dist-packages (from requests->torch-geometric) (1.26.14)\n",
      "Requirement already satisfied: joblib>=1.1.1 in /usr/local/lib/python3.9/dist-packages (from scikit-learn->torch-geometric) (1.2.0)\n",
      "Requirement already satisfied: threadpoolctl>=2.0.0 in /usr/local/lib/python3.9/dist-packages (from scikit-learn->torch-geometric) (3.1.0)\n",
      "Building wheels for collected packages: torch-geometric\n",
      "  Building wheel for torch-geometric (setup.py) ... \u001b[?25l\u001b[?25hdone\n",
      "  Created wheel for torch-geometric: filename=torch_geometric-2.2.0-py3-none-any.whl size=773302 sha256=629d1d9e8277b33a72ded116e694f7e7649dce6628e48d5f2a0bf0512c461cf2\n",
      "  Stored in directory: /root/.cache/pip/wheels/31/b2/8c/9b4bb72a4384eabd1ffeab2b7ead692c9165e35711f8a9dc72\n",
      "Successfully built torch-geometric\n",
      "Installing collected packages: psutil, torch-geometric\n",
      "  Attempting uninstall: psutil\n",
      "    Found existing installation: psutil 5.4.8\n",
      "    Uninstalling psutil-5.4.8:\n",
      "      Successfully uninstalled psutil-5.4.8\n",
      "Successfully installed psutil-5.9.4 torch-geometric-2.2.0\n"
     ]
    },
    {
     "data": {
      "application/vnd.colab-display-data+json": {
       "pip_warning": {
        "packages": [
         "psutil"
        ]
       }
      }
     },
     "metadata": {},
     "output_type": "display_data"
    }
   ],
   "source": [
    "########## INSTALL TORCH GEOMETRIC ##################\n",
    "# https://pytorch-geometric.readthedocs.io/en/latest/ \n",
    "#####################################################\n",
    "import torch \n",
    "\n",
    "def format_pytorch_version(version):\n",
    "  return version.split('+')[0]\n",
    "\n",
    "TORCH_version = torch.__version__\n",
    "TORCH = format_pytorch_version(TORCH_version)\n",
    "\n",
    "def format_cuda_version(version):\n",
    "  return 'cu' + version.replace('.', '')\n",
    "\n",
    "CUDA_version = torch.version.cuda\n",
    "CUDA = format_cuda_version(CUDA_version)\n",
    "\n",
    "!pip install torch-scatter     -f https://pytorch-geometric.com/whl/torch-{TORCH}+{CUDA}.html\n",
    "!pip install torch-sparse      -f https://pytorch-geometric.com/whl/torch-{TORCH}+{CUDA}.html\n",
    "!pip install torch-cluster     -f https://pytorch-geometric.com/whl/torch-{TORCH}+{CUDA}.html\n",
    "!pip install torch-spline-conv -f https://pytorch-geometric.com/whl/torch-{TORCH}+{CUDA}.html\n",
    "!pip install torch-geometric"
   ]
  },
  {
   "cell_type": "markdown",
   "metadata": {
    "id": "04JPKXjDclTj"
   },
   "source": [
    "### Import required packages\n",
    "\n",
    "Run the following cell to import all required packages. This cell **must not** be modified.\n",
    "\n",
    "To significantly accelerate your training, it is advised to use GPU. Using Google Colab, you need to activate it : \n",
    "\n",
    "*   Edit --> Notebook Setting --> Hardware accelerator --> GPU"
   ]
  },
  {
   "cell_type": "code",
   "execution_count": null,
   "metadata": {
    "id": "qXGDmBMYgA_x"
   },
   "outputs": [],
   "source": [
    "#####################################################\n",
    "################## PACKAGES #########################\n",
    "#####################################################\n",
    "import numpy as np\n",
    "import matplotlib.pyplot as plt\n",
    "\n",
    "import torch.nn as nn\n",
    "import torch_geometric.nn as graphnn\n",
    "from sklearn.metrics import f1_score\n",
    "from torch_geometric.datasets import PPI\n",
    "from torch_geometric.loader import DataLoader"
   ]
  },
  {
   "cell_type": "markdown",
   "metadata": {
    "id": "3UvCNG8FgdS-"
   },
   "source": [
    "### Dataset\n",
    "\n",
    "We use the Protein-Protein Interaction (PPI) network dataset which includes:\n",
    "- 20 graphs for training \n",
    "- 2 graphs for validation\n",
    "- 2 graphs for testing\n",
    "\n",
    "One graph of the PPI dataset has on average 2372 nodes. Each node:\n",
    "- 50 features : positional gene sets / motif gene / immunological signatures ...\n",
    "- 121 (binary) labels : gene ontology sets (way to classify gene products like proteins).\n",
    "\n",
    "**This problem aims to predict, for a given PPI graph, the correct node's labels**.\n",
    "\n",
    "**It is a node (multi-level) classification task** (trained using supervised learning). \n",
    "\n",
    "For your curiosity, more details information on the dataset and some applications:\n",
    "- https://cs.stanford.edu/~jure/pubs/pathways-psb18.pdf\n",
    "- https://arxiv.org/abs/1707.04638\n",
    "\n",
    "To understand how a graph data is implemented in Pytorch Geometric, refer to : https://pytorch-geometric.readthedocs.io/en/latest/get_started/introduction.html\n"
   ]
  },
  {
   "cell_type": "code",
   "execution_count": null,
   "metadata": {
    "colab": {
     "base_uri": "https://localhost:8080/"
    },
    "id": "IwdNhvzVNkZB",
    "outputId": "5d7cd434-2cee-43b6-bc0a-2c74f92f7430"
   },
   "outputs": [
    {
     "name": "stderr",
     "output_type": "stream",
     "text": [
      "Downloading https://data.dgl.ai/dataset/ppi.zip\n",
      "Extracting ./ppi.zip\n",
      "Processing...\n"
     ]
    },
    {
     "name": "stdout",
     "output_type": "stream",
     "text": [
      "Number of samples in the train dataset:  20\n",
      "Number of samples in the val dataset:  2\n",
      "Number of samples in the test dataset:  2\n",
      "Output of one sample from the train dataset:  Data(x=[1767, 50], edge_index=[2, 32318], y=[1767, 121])\n",
      "Edge_index :\n",
      "tensor([[   0,    0,    0,  ..., 1744, 1745, 1749],\n",
      "        [ 372, 1101,  766,  ..., 1745, 1744, 1739]])\n",
      "Number of features per node:  50\n",
      "Number of classes per node:  121\n"
     ]
    },
    {
     "name": "stderr",
     "output_type": "stream",
     "text": [
      "Done!\n"
     ]
    }
   ],
   "source": [
    "### LOAD DATASETS\n",
    "\n",
    "BATCH_SIZE = 2 \n",
    "\n",
    "# Train Dataset\n",
    "train_dataset = PPI(root=\"\", split='train')\n",
    "train_dataloader = DataLoader(train_dataset, batch_size=BATCH_SIZE)\n",
    "# Val Dataset\n",
    "val_dataset = PPI(root=\"\", split='val')\n",
    "val_dataloader = DataLoader(val_dataset, batch_size=BATCH_SIZE)\n",
    "# Test Dataset\n",
    "test_dataset = PPI(root=\"\", split='test')\n",
    "test_dataloader = DataLoader(test_dataset, batch_size=BATCH_SIZE)\n",
    "\n",
    "# Number of features and classes\n",
    "n_features, n_classes = train_dataset[0].x.shape[1], train_dataset[0].y.shape[1]\n",
    "\n",
    "print(\"Number of samples in the train dataset: \", len(train_dataset))\n",
    "print(\"Number of samples in the val dataset: \", len(test_dataset))\n",
    "print(\"Number of samples in the test dataset: \", len(test_dataset))\n",
    "print(\"Output of one sample from the train dataset: \", train_dataset[0])\n",
    "print(\"Edge_index :\")\n",
    "print(train_dataset[0].edge_index)\n",
    "print(\"Number of features per node: \", n_features)\n",
    "print(\"Number of classes per node: \", n_classes)"
   ]
  },
  {
   "cell_type": "markdown",
   "metadata": {
    "id": "hiCcn9qeO6Nm"
   },
   "source": [
    "### Define a basic Model"
   ]
  },
  {
   "cell_type": "markdown",
   "metadata": {
    "id": "8RjzEiJ-eVot"
   },
   "source": [
    "Here we define a very simple Graph Neural Network model which will be used as our baseline. This model consists of three graph convolutional layers (from https://arxiv.org/pdf/1609.02907.pdf). The first two layers computes 256 features, followed by an ELU activation function. The last layer is used for (multi-level) classification task, computing 121 features."
   ]
  },
  {
   "cell_type": "code",
   "execution_count": null,
   "metadata": {
    "id": "2Km-GN1aMpd_"
   },
   "outputs": [],
   "source": [
    "#####################################################\n",
    "################## MODEL ############################\n",
    "#####################################################\n",
    "class BasicGraphModel(nn.Module):\n",
    "\n",
    "    def __init__(self, input_size, hidden_size, output_size):\n",
    "        super().__init__()\n",
    "\n",
    "        self.graphconv1 = graphnn.GCNConv(input_size, hidden_size)\n",
    "        self.graphconv2 = graphnn.GCNConv(hidden_size, hidden_size)\n",
    "        self.graphconv3 = graphnn.GCNConv(hidden_size, output_size)\n",
    "\n",
    "        self.elu = nn.ELU()\n",
    "\n",
    "    def forward(self, x, edge_index):\n",
    "\n",
    "        x = self.graphconv1(x, edge_index)\n",
    "        x = self.elu(x)\n",
    "        x = self.graphconv2(x, edge_index)\n",
    "        x = self.elu(x)\n",
    "        x = self.graphconv3(x, edge_index)\n",
    "\n",
    "        return x"
   ]
  },
  {
   "cell_type": "markdown",
   "metadata": {
    "id": "6ekk0TrOktOB"
   },
   "source": [
    "Next we construct the function to train the model."
   ]
  },
  {
   "cell_type": "code",
   "execution_count": null,
   "metadata": {
    "id": "m4lneoadMxqy"
   },
   "outputs": [],
   "source": [
    "#####################################################\n",
    "############## TRAIN FUNCTION #######################\n",
    "#####################################################\n",
    "def train(model, loss_fcn, device, optimizer, max_epochs, train_dataloader, val_dataloader):\n",
    "\n",
    "    epoch_list = []\n",
    "    scores_list = []\n",
    "\n",
    "    # loop over epochs\n",
    "    for epoch in range(max_epochs):\n",
    "        model.train()\n",
    "        losses = []\n",
    "        # loop over batches\n",
    "        for i, train_batch in enumerate(train_dataloader):\n",
    "            optimizer.zero_grad()\n",
    "            train_batch_device = train_batch.to(device)\n",
    "            # logits is the output of the model\n",
    "            logits = model(train_batch_device.x, train_batch_device.edge_index)\n",
    "            # compute the loss\n",
    "            loss = loss_fcn(logits, train_batch_device.y)\n",
    "            # optimizer step\n",
    "            loss.backward()\n",
    "            optimizer.step()\n",
    "            losses.append(loss.item())\n",
    "        loss_data = np.array(losses).mean()\n",
    "        print(\"Epoch {:05d} | Loss: {:.4f}\".format(epoch + 1, loss_data))\n",
    "\n",
    "        if epoch % 5 == 0:\n",
    "            # evaluate the model on the validation set\n",
    "            # computes the f1-score (see next function)\n",
    "            score = evaluate(model, loss_fcn, device, val_dataloader)\n",
    "            print(\"F1-Score: {:.4f}\".format(score))\n",
    "            scores_list.append(score)\n",
    "            epoch_list.append(epoch)\n",
    "\n",
    "    return epoch_list, scores_list"
   ]
  },
  {
   "cell_type": "markdown",
   "metadata": {
    "id": "PTd9OqaelLni"
   },
   "source": [
    "Next function is designed to evaluate the performance of the model, computing the F1-Score"
   ]
  },
  {
   "cell_type": "code",
   "execution_count": null,
   "metadata": {
    "id": "PajZzg5zM7V1"
   },
   "outputs": [],
   "source": [
    "#####################################################\n",
    "############### TEST FUNCTION #######################\n",
    "#####################################################\n",
    "def evaluate(model, loss_fcn, device, dataloader):\n",
    "\n",
    "    score_list_batch = []\n",
    "\n",
    "    model.eval()\n",
    "    for i, batch in enumerate(dataloader):\n",
    "        batch = batch.to(device)\n",
    "        output = model(batch.x, batch.edge_index)\n",
    "        loss_test = loss_fcn(output, batch.y)\n",
    "        predict = np.where(output.detach().cpu().numpy() >= 0, 1, 0)\n",
    "        score = f1_score(batch.y.cpu().numpy(), predict, average=\"micro\")\n",
    "        score_list_batch.append(score)\n",
    "\n",
    "    return np.array(score_list_batch).mean()"
   ]
  },
  {
   "cell_type": "markdown",
   "metadata": {
    "id": "EilgopwMlpsu"
   },
   "source": [
    "Let's train this model !"
   ]
  },
  {
   "cell_type": "code",
   "execution_count": null,
   "metadata": {
    "colab": {
     "base_uri": "https://localhost:8080/"
    },
    "id": "Xkqo7e0gNACE",
    "outputId": "ed6cb729-137f-4b21-93da-ee873b7ae6d2"
   },
   "outputs": [
    {
     "name": "stdout",
     "output_type": "stream",
     "text": [
      "\n",
      "Device:  cuda\n",
      "Epoch 00001 | Loss: 0.6380\n",
      "F1-Score: 0.4537\n",
      "Epoch 00002 | Loss: 0.5816\n",
      "Epoch 00003 | Loss: 0.5625\n",
      "Epoch 00004 | Loss: 0.5560\n",
      "Epoch 00005 | Loss: 0.5511\n",
      "Epoch 00006 | Loss: 0.5458\n",
      "F1-Score: 0.4871\n",
      "Epoch 00007 | Loss: 0.5413\n",
      "Epoch 00008 | Loss: 0.5375\n",
      "Epoch 00009 | Loss: 0.5344\n",
      "Epoch 00010 | Loss: 0.5318\n",
      "Epoch 00011 | Loss: 0.5290\n",
      "F1-Score: 0.5273\n",
      "Epoch 00012 | Loss: 0.5263\n",
      "Epoch 00013 | Loss: 0.5238\n",
      "Epoch 00014 | Loss: 0.5213\n",
      "Epoch 00015 | Loss: 0.5191\n",
      "Epoch 00016 | Loss: 0.5169\n",
      "F1-Score: 0.5276\n",
      "Epoch 00017 | Loss: 0.5147\n",
      "Epoch 00018 | Loss: 0.5125\n",
      "Epoch 00019 | Loss: 0.5103\n",
      "Epoch 00020 | Loss: 0.5081\n",
      "Epoch 00021 | Loss: 0.5060\n",
      "F1-Score: 0.5223\n",
      "Epoch 00022 | Loss: 0.5038\n",
      "Epoch 00023 | Loss: 0.5017\n",
      "Epoch 00024 | Loss: 0.4996\n",
      "Epoch 00025 | Loss: 0.4975\n",
      "Epoch 00026 | Loss: 0.4954\n",
      "F1-Score: 0.5284\n",
      "Epoch 00027 | Loss: 0.4935\n",
      "Epoch 00028 | Loss: 0.4915\n",
      "Epoch 00029 | Loss: 0.4897\n",
      "Epoch 00030 | Loss: 0.4879\n",
      "Epoch 00031 | Loss: 0.4863\n",
      "F1-Score: 0.5393\n",
      "Epoch 00032 | Loss: 0.4845\n",
      "Epoch 00033 | Loss: 0.4827\n",
      "Epoch 00034 | Loss: 0.4810\n",
      "Epoch 00035 | Loss: 0.4792\n",
      "Epoch 00036 | Loss: 0.4778\n",
      "F1-Score: 0.5509\n",
      "Epoch 00037 | Loss: 0.4761\n",
      "Epoch 00038 | Loss: 0.4748\n",
      "Epoch 00039 | Loss: 0.4736\n",
      "Epoch 00040 | Loss: 0.4730\n",
      "Epoch 00041 | Loss: 0.4721\n",
      "F1-Score: 0.5679\n",
      "Epoch 00042 | Loss: 0.4721\n",
      "Epoch 00043 | Loss: 0.4706\n",
      "Epoch 00044 | Loss: 0.4695\n",
      "Epoch 00045 | Loss: 0.4669\n",
      "Epoch 00046 | Loss: 0.4655\n",
      "F1-Score: 0.5708\n",
      "Epoch 00047 | Loss: 0.4642\n",
      "Epoch 00048 | Loss: 0.4643\n",
      "Epoch 00049 | Loss: 0.4617\n",
      "Epoch 00050 | Loss: 0.4612\n",
      "Epoch 00051 | Loss: 0.4604\n",
      "F1-Score: 0.5677\n",
      "Epoch 00052 | Loss: 0.4607\n",
      "Epoch 00053 | Loss: 0.4602\n",
      "Epoch 00054 | Loss: 0.4596\n",
      "Epoch 00055 | Loss: 0.4596\n",
      "Epoch 00056 | Loss: 0.4589\n",
      "F1-Score: 0.5896\n",
      "Epoch 00057 | Loss: 0.4574\n",
      "Epoch 00058 | Loss: 0.4567\n",
      "Epoch 00059 | Loss: 0.4543\n",
      "Epoch 00060 | Loss: 0.4532\n",
      "Epoch 00061 | Loss: 0.4512\n",
      "F1-Score: 0.5876\n",
      "Epoch 00062 | Loss: 0.4500\n",
      "Epoch 00063 | Loss: 0.4490\n",
      "Epoch 00064 | Loss: 0.4485\n",
      "Epoch 00065 | Loss: 0.4474\n",
      "Epoch 00066 | Loss: 0.4469\n",
      "F1-Score: 0.6029\n",
      "Epoch 00067 | Loss: 0.4463\n",
      "Epoch 00068 | Loss: 0.4460\n",
      "Epoch 00069 | Loss: 0.4457\n",
      "Epoch 00070 | Loss: 0.4449\n",
      "Epoch 00071 | Loss: 0.4446\n",
      "F1-Score: 0.6009\n",
      "Epoch 00072 | Loss: 0.4452\n",
      "Epoch 00073 | Loss: 0.4433\n",
      "Epoch 00074 | Loss: 0.4434\n",
      "Epoch 00075 | Loss: 0.4424\n",
      "Epoch 00076 | Loss: 0.4408\n",
      "F1-Score: 0.5994\n",
      "Epoch 00077 | Loss: 0.4392\n",
      "Epoch 00078 | Loss: 0.4397\n",
      "Epoch 00079 | Loss: 0.4387\n",
      "Epoch 00080 | Loss: 0.4383\n",
      "Epoch 00081 | Loss: 0.4375\n",
      "F1-Score: 0.6223\n",
      "Epoch 00082 | Loss: 0.4369\n",
      "Epoch 00083 | Loss: 0.4360\n",
      "Epoch 00084 | Loss: 0.4355\n",
      "Epoch 00085 | Loss: 0.4351\n",
      "Epoch 00086 | Loss: 0.4356\n",
      "F1-Score: 0.6067\n",
      "Epoch 00087 | Loss: 0.4348\n",
      "Epoch 00088 | Loss: 0.4345\n",
      "Epoch 00089 | Loss: 0.4351\n",
      "Epoch 00090 | Loss: 0.4357\n",
      "Epoch 00091 | Loss: 0.4354\n",
      "F1-Score: 0.6178\n",
      "Epoch 00092 | Loss: 0.4351\n",
      "Epoch 00093 | Loss: 0.4355\n",
      "Epoch 00094 | Loss: 0.4346\n",
      "Epoch 00095 | Loss: 0.4333\n",
      "Epoch 00096 | Loss: 0.4328\n",
      "F1-Score: 0.6120\n",
      "Epoch 00097 | Loss: 0.4333\n",
      "Epoch 00098 | Loss: 0.4333\n",
      "Epoch 00099 | Loss: 0.4341\n",
      "Epoch 00100 | Loss: 0.4371\n",
      "Epoch 00101 | Loss: 0.4388\n",
      "F1-Score: 0.5832\n",
      "Epoch 00102 | Loss: 0.4421\n",
      "Epoch 00103 | Loss: 0.4368\n",
      "Epoch 00104 | Loss: 0.4338\n",
      "Epoch 00105 | Loss: 0.4334\n",
      "Epoch 00106 | Loss: 0.4309\n",
      "F1-Score: 0.5763\n",
      "Epoch 00107 | Loss: 0.4308\n",
      "Epoch 00108 | Loss: 0.4316\n",
      "Epoch 00109 | Loss: 0.4335\n",
      "Epoch 00110 | Loss: 0.4316\n",
      "Epoch 00111 | Loss: 0.4297\n",
      "F1-Score: 0.6185\n",
      "Epoch 00112 | Loss: 0.4267\n",
      "Epoch 00113 | Loss: 0.4255\n",
      "Epoch 00114 | Loss: 0.4251\n",
      "Epoch 00115 | Loss: 0.4256\n",
      "Epoch 00116 | Loss: 0.4271\n",
      "F1-Score: 0.5892\n",
      "Epoch 00117 | Loss: 0.4266\n",
      "Epoch 00118 | Loss: 0.4266\n",
      "Epoch 00119 | Loss: 0.4283\n",
      "Epoch 00120 | Loss: 0.4297\n",
      "Epoch 00121 | Loss: 0.4305\n",
      "F1-Score: 0.6307\n",
      "Epoch 00122 | Loss: 0.4310\n",
      "Epoch 00123 | Loss: 0.4271\n",
      "Epoch 00124 | Loss: 0.4253\n",
      "Epoch 00125 | Loss: 0.4263\n",
      "Epoch 00126 | Loss: 0.4250\n",
      "F1-Score: 0.5833\n",
      "Epoch 00127 | Loss: 0.4231\n",
      "Epoch 00128 | Loss: 0.4225\n",
      "Epoch 00129 | Loss: 0.4248\n",
      "Epoch 00130 | Loss: 0.4242\n",
      "Epoch 00131 | Loss: 0.4210\n",
      "F1-Score: 0.6220\n",
      "Epoch 00132 | Loss: 0.4221\n",
      "Epoch 00133 | Loss: 0.4208\n",
      "Epoch 00134 | Loss: 0.4194\n",
      "Epoch 00135 | Loss: 0.4217\n",
      "Epoch 00136 | Loss: 0.4207\n",
      "F1-Score: 0.6367\n",
      "Epoch 00137 | Loss: 0.4201\n",
      "Epoch 00138 | Loss: 0.4182\n",
      "Epoch 00139 | Loss: 0.4180\n",
      "Epoch 00140 | Loss: 0.4154\n",
      "Epoch 00141 | Loss: 0.4139\n",
      "F1-Score: 0.6116\n",
      "Epoch 00142 | Loss: 0.4130\n",
      "Epoch 00143 | Loss: 0.4131\n",
      "Epoch 00144 | Loss: 0.4132\n",
      "Epoch 00145 | Loss: 0.4129\n",
      "Epoch 00146 | Loss: 0.4123\n",
      "F1-Score: 0.6372\n",
      "Epoch 00147 | Loss: 0.4134\n",
      "Epoch 00148 | Loss: 0.4158\n",
      "Epoch 00149 | Loss: 0.4173\n",
      "Epoch 00150 | Loss: 0.4179\n",
      "Epoch 00151 | Loss: 0.4194\n",
      "F1-Score: 0.6335\n",
      "Epoch 00152 | Loss: 0.4205\n",
      "Epoch 00153 | Loss: 0.4201\n",
      "Epoch 00154 | Loss: 0.4194\n",
      "Epoch 00155 | Loss: 0.4205\n",
      "Epoch 00156 | Loss: 0.4194\n",
      "F1-Score: 0.6171\n",
      "Epoch 00157 | Loss: 0.4168\n",
      "Epoch 00158 | Loss: 0.4150\n",
      "Epoch 00159 | Loss: 0.4143\n",
      "Epoch 00160 | Loss: 0.4128\n",
      "Epoch 00161 | Loss: 0.4105\n",
      "F1-Score: 0.6411\n",
      "Epoch 00162 | Loss: 0.4091\n",
      "Epoch 00163 | Loss: 0.4087\n",
      "Epoch 00164 | Loss: 0.4082\n",
      "Epoch 00165 | Loss: 0.4072\n",
      "Epoch 00166 | Loss: 0.4080\n",
      "F1-Score: 0.6396\n",
      "Epoch 00167 | Loss: 0.4084\n",
      "Epoch 00168 | Loss: 0.4086\n",
      "Epoch 00169 | Loss: 0.4087\n",
      "Epoch 00170 | Loss: 0.4097\n",
      "Epoch 00171 | Loss: 0.4121\n",
      "F1-Score: 0.6114\n",
      "Epoch 00172 | Loss: 0.4111\n",
      "Epoch 00173 | Loss: 0.4103\n",
      "Epoch 00174 | Loss: 0.4100\n",
      "Epoch 00175 | Loss: 0.4108\n",
      "Epoch 00176 | Loss: 0.4103\n",
      "F1-Score: 0.6483\n",
      "Epoch 00177 | Loss: 0.4089\n",
      "Epoch 00178 | Loss: 0.4080\n",
      "Epoch 00179 | Loss: 0.4094\n",
      "Epoch 00180 | Loss: 0.4086\n",
      "Epoch 00181 | Loss: 0.4080\n",
      "F1-Score: 0.6159\n",
      "Epoch 00182 | Loss: 0.4076\n",
      "Epoch 00183 | Loss: 0.4066\n",
      "Epoch 00184 | Loss: 0.4072\n",
      "Epoch 00185 | Loss: 0.4060\n",
      "Epoch 00186 | Loss: 0.4092\n",
      "F1-Score: 0.6146\n",
      "Epoch 00187 | Loss: 0.4093\n",
      "Epoch 00188 | Loss: 0.4068\n",
      "Epoch 00189 | Loss: 0.4064\n",
      "Epoch 00190 | Loss: 0.4058\n",
      "Epoch 00191 | Loss: 0.4049\n",
      "F1-Score: 0.6519\n",
      "Epoch 00192 | Loss: 0.4030\n",
      "Epoch 00193 | Loss: 0.4036\n",
      "Epoch 00194 | Loss: 0.4047\n",
      "Epoch 00195 | Loss: 0.4032\n",
      "Epoch 00196 | Loss: 0.4052\n",
      "F1-Score: 0.6530\n",
      "Epoch 00197 | Loss: 0.4042\n",
      "Epoch 00198 | Loss: 0.4032\n",
      "Epoch 00199 | Loss: 0.4033\n",
      "Epoch 00200 | Loss: 0.4036\n"
     ]
    }
   ],
   "source": [
    "### DEVICE GPU OR CPU : will select GPU if available\n",
    "device = torch.device('cuda' if torch.cuda.is_available() else 'cpu')\n",
    "print(\"\\nDevice: \", device)\n",
    "\n",
    "### Max number of epochs\n",
    "max_epochs = 200\n",
    "\n",
    "### DEFINE THE MODEL\n",
    "basic_model = BasicGraphModel(  input_size = n_features, \n",
    "                                hidden_size = 256, \n",
    "                                output_size = n_classes).to(device)\n",
    "\n",
    "### DEFINE LOSS FUNCTION\n",
    "loss_fcn = nn.BCEWithLogitsLoss()\n",
    "\n",
    "### DEFINE OPTIMIZER\n",
    "optimizer = torch.optim.Adam(basic_model.parameters(), lr=0.005)\n",
    "\n",
    "### TRAIN THE MODEL\n",
    "epoch_list, basic_model_scores = train(basic_model, loss_fcn, device, optimizer, max_epochs, train_dataloader, val_dataloader)"
   ]
  },
  {
   "cell_type": "markdown",
   "metadata": {
    "id": "2sGc5g7Xmap2"
   },
   "source": [
    "Let's evaluate the performance of this basic model"
   ]
  },
  {
   "cell_type": "code",
   "execution_count": null,
   "metadata": {
    "colab": {
     "base_uri": "https://localhost:8080/",
     "height": 353
    },
    "id": "ztfbbg2TNP7F",
    "outputId": "19fa3720-5b85-40da-8e24-3df54e5a0588"
   },
   "outputs": [
    {
     "name": "stdout",
     "output_type": "stream",
     "text": [
      "Basic Model : F1-Score on the test set: 0.6350\n"
     ]
    },
    {
     "data": {
      "image/png": "[encoded data removed]",
      "text/plain": [
       "<Figure size 720x360 with 1 Axes>"
      ]
     },
     "metadata": {
      "needs_background": "light"
     },
     "output_type": "display_data"
    }
   ],
   "source": [
    "### F1-SCORE ON TEST DATASET\n",
    "score_test = evaluate(basic_model, loss_fcn, device, test_dataloader)\n",
    "print(\"Basic Model : F1-Score on the test set: {:.4f}\".format(score_test))\n",
    "\n",
    "### PLOT EVOLUTION OF F1-SCORE W.R.T EPOCHS\n",
    "def plot_f1_score(epoch_list, scores) :\n",
    "    plt.figure(figsize=[10,5])\n",
    "    plt.plot(epoch_list, scores)\n",
    "    plt.title(\"Evolution of F1S-Score w.r.t epochs\")\n",
    "    plt.ylim([0.0, 1.0])\n",
    "    plt.show()\n",
    "    \n",
    "plot_f1_score(epoch_list, basic_model_scores)"
   ]
  },
  {
   "cell_type": "markdown",
   "metadata": {
    "id": "TRVsy5vLnWm_"
   },
   "source": [
    "### Define a better model\n",
    "\n",
    "Now, it's your turn to improve this basic model ! To do so, complete whenever ###### YOUR ANSWER ######## and run the two following cells.\n",
    "\n",
    "**HINT :** https://arxiv.org/pdf/1710.10903.pdf"
   ]
  },
  {
   "cell_type": "code",
   "execution_count": null,
   "metadata": {
    "id": "qTo7PxFpRHzL"
   },
   "outputs": [],
   "source": [
    "class StudentModel(nn.Module):\n",
    "    \n",
    "    def __init__(self, input_size, hidden_size, output_size, num_layers = 3, num_heads = 2):\n",
    "          super().__init__()\n",
    "\n",
    "          self.pipeline = [graphnn.GATv2Conv(in_channels = input_size, out_channels = hidden_size, heads = num_heads)]\n",
    "\n",
    "          for _ in range(num_layers - 1):\n",
    "            layer = graphnn.GATv2Conv(in_channels = hidden_size * num_heads, out_channels = hidden_size, heads = num_heads)\n",
    "            self.pipeline.append(layer)         \n",
    "\n",
    "          #self.pipeline.append(nn.LeakyReLU(negative_slope = 0.2))\n",
    "          self.pipeline.append(graphnn.Linear(in_channels = hidden_size * num_heads, out_channels = output_size))\n",
    "          \n",
    "          self.pipeline = nn.Sequential(*self.pipeline)\n",
    "\n",
    "\n",
    "    def forward(self, x, edge_index):\n",
    "\n",
    "          for layer in self.pipeline[:-2]:\n",
    "            x = layer(x, edge_index)\n",
    "\n",
    "          #output = self.pipeline[-2](x)\n",
    "          output = self.pipeline[-1](x)\n",
    "\n",
    "          return output"
   ]
  },
  {
   "cell_type": "markdown",
   "metadata": {
    "id": "4yGdQ2uxpCAX"
   },
   "source": [
    "Let's train your model !"
   ]
  },
  {
   "cell_type": "code",
   "execution_count": null,
   "metadata": {
    "colab": {
     "base_uri": "https://localhost:8080/"
    },
    "id": "6XIYzkYRo3AQ",
    "outputId": "613ad4fd-9d34-4600-b680-6cc665939f7e"
   },
   "outputs": [
    {
     "name": "stdout",
     "output_type": "stream",
     "text": [
      "Epoch 00001 | Loss: 0.6610\n",
      "F1-Score: 0.3711\n",
      "Epoch 00002 | Loss: 0.5516\n",
      "Epoch 00003 | Loss: 0.5285\n",
      "Epoch 00004 | Loss: 0.5161\n",
      "Epoch 00005 | Loss: 0.4933\n",
      "Epoch 00006 | Loss: 0.4749\n",
      "F1-Score: 0.5403\n",
      "Epoch 00007 | Loss: 0.4652\n",
      "Epoch 00008 | Loss: 0.4393\n",
      "Epoch 00009 | Loss: 0.4166\n",
      "Epoch 00010 | Loss: 0.4033\n",
      "Epoch 00011 | Loss: 0.3921\n",
      "F1-Score: 0.6685\n",
      "Epoch 00012 | Loss: 0.3651\n",
      "Epoch 00013 | Loss: 0.3493\n",
      "Epoch 00014 | Loss: 0.3757\n",
      "Epoch 00015 | Loss: 0.3416\n",
      "Epoch 00016 | Loss: 0.3168\n",
      "F1-Score: 0.7530\n",
      "Epoch 00017 | Loss: 0.3032\n",
      "Epoch 00018 | Loss: 0.2898\n",
      "Epoch 00019 | Loss: 0.2750\n",
      "Epoch 00020 | Loss: 0.2688\n",
      "Epoch 00021 | Loss: 0.2585\n",
      "F1-Score: 0.7964\n",
      "Epoch 00022 | Loss: 0.2471\n",
      "Epoch 00023 | Loss: 0.2366\n",
      "Epoch 00024 | Loss: 0.2228\n",
      "Epoch 00025 | Loss: 0.2114\n",
      "Epoch 00026 | Loss: 0.2049\n",
      "F1-Score: 0.8410\n",
      "Epoch 00027 | Loss: 0.2088\n",
      "Epoch 00028 | Loss: 0.2081\n",
      "Epoch 00029 | Loss: 0.2017\n",
      "Epoch 00030 | Loss: 0.1861\n",
      "Epoch 00031 | Loss: 0.1822\n",
      "F1-Score: 0.8622\n",
      "Epoch 00032 | Loss: 0.1727\n",
      "Epoch 00033 | Loss: 0.1705\n",
      "Epoch 00034 | Loss: 0.1711\n",
      "Epoch 00035 | Loss: 0.1646\n",
      "Epoch 00036 | Loss: 0.1544\n",
      "F1-Score: 0.8801\n",
      "Epoch 00037 | Loss: 0.1483\n",
      "Epoch 00038 | Loss: 0.1452\n",
      "Epoch 00039 | Loss: 0.1439\n",
      "Epoch 00040 | Loss: 0.1420\n",
      "Epoch 00041 | Loss: 0.1444\n",
      "F1-Score: 0.8848\n",
      "Epoch 00042 | Loss: 0.1470\n",
      "Epoch 00043 | Loss: 0.1446\n",
      "Epoch 00044 | Loss: 0.1424\n",
      "Epoch 00045 | Loss: 0.1320\n",
      "Epoch 00046 | Loss: 0.1260\n",
      "F1-Score: 0.8981\n",
      "Epoch 00047 | Loss: 0.1222\n",
      "Epoch 00048 | Loss: 0.1287\n",
      "Epoch 00049 | Loss: 0.1292\n",
      "Epoch 00050 | Loss: 0.1343\n",
      "Epoch 00051 | Loss: 0.1305\n",
      "F1-Score: 0.8997\n",
      "Epoch 00052 | Loss: 0.1316\n",
      "Epoch 00053 | Loss: 0.1275\n",
      "Epoch 00054 | Loss: 0.1237\n",
      "Epoch 00055 | Loss: 0.1174\n",
      "Epoch 00056 | Loss: 0.1295\n",
      "F1-Score: 0.8774\n",
      "Epoch 00057 | Loss: 0.1341\n",
      "Epoch 00058 | Loss: 0.1201\n",
      "Epoch 00059 | Loss: 0.1107\n",
      "Epoch 00060 | Loss: 0.1056\n",
      "Epoch 00061 | Loss: 0.1010\n",
      "F1-Score: 0.9138\n",
      "Epoch 00062 | Loss: 0.1001\n",
      "Epoch 00063 | Loss: 0.1009\n",
      "Epoch 00064 | Loss: 0.1014\n",
      "Epoch 00065 | Loss: 0.1019\n",
      "Epoch 00066 | Loss: 0.1037\n",
      "F1-Score: 0.9149\n",
      "Epoch 00067 | Loss: 0.1000\n",
      "Epoch 00068 | Loss: 0.0968\n",
      "Epoch 00069 | Loss: 0.0916\n",
      "Epoch 00070 | Loss: 0.0871\n",
      "Epoch 00071 | Loss: 0.0838\n",
      "F1-Score: 0.9287\n",
      "Epoch 00072 | Loss: 0.0825\n",
      "Epoch 00073 | Loss: 0.0819\n",
      "Epoch 00074 | Loss: 0.0856\n",
      "Epoch 00075 | Loss: 0.0899\n",
      "Epoch 00076 | Loss: 0.0916\n",
      "F1-Score: 0.9204\n",
      "Epoch 00077 | Loss: 0.0902\n",
      "Epoch 00078 | Loss: 0.0897\n",
      "Epoch 00079 | Loss: 0.0863\n",
      "Epoch 00080 | Loss: 0.0942\n",
      "Epoch 00081 | Loss: 0.0949\n",
      "F1-Score: 0.9220\n",
      "Epoch 00082 | Loss: 0.0935\n",
      "Epoch 00083 | Loss: 0.0874\n",
      "Epoch 00084 | Loss: 0.0821\n",
      "Epoch 00085 | Loss: 0.0795\n",
      "Epoch 00086 | Loss: 0.0770\n",
      "F1-Score: 0.9311\n",
      "Epoch 00087 | Loss: 0.0742\n",
      "Epoch 00088 | Loss: 0.0731\n",
      "Epoch 00089 | Loss: 0.0740\n",
      "Epoch 00090 | Loss: 0.0765\n",
      "Epoch 00091 | Loss: 0.0768\n",
      "F1-Score: 0.9303\n",
      "Epoch 00092 | Loss: 0.0783\n",
      "Epoch 00093 | Loss: 0.0780\n",
      "Epoch 00094 | Loss: 0.0829\n",
      "Epoch 00095 | Loss: 0.0837\n",
      "Epoch 00096 | Loss: 0.0793\n",
      "F1-Score: 0.9334\n",
      "Epoch 00097 | Loss: 0.0739\n",
      "Epoch 00098 | Loss: 0.0708\n",
      "Epoch 00099 | Loss: 0.0728\n",
      "Epoch 00100 | Loss: 0.0717\n",
      "Epoch 00101 | Loss: 0.0738\n",
      "F1-Score: 0.9339\n",
      "Epoch 00102 | Loss: 0.0710\n",
      "Epoch 00103 | Loss: 0.0738\n",
      "Epoch 00104 | Loss: 0.0740\n",
      "Epoch 00105 | Loss: 0.0747\n",
      "Epoch 00106 | Loss: 0.0734\n",
      "F1-Score: 0.9342\n",
      "Epoch 00107 | Loss: 0.0712\n",
      "Epoch 00108 | Loss: 0.0680\n",
      "Epoch 00109 | Loss: 0.0654\n",
      "Epoch 00110 | Loss: 0.0624\n",
      "Epoch 00111 | Loss: 0.0627\n",
      "F1-Score: 0.9418\n",
      "Epoch 00112 | Loss: 0.0622\n",
      "Epoch 00113 | Loss: 0.0646\n",
      "Epoch 00114 | Loss: 0.0723\n",
      "Epoch 00115 | Loss: 0.0768\n",
      "Epoch 00116 | Loss: 0.0762\n",
      "F1-Score: 0.9312\n",
      "Epoch 00117 | Loss: 0.0780\n",
      "Epoch 00118 | Loss: 0.0735\n",
      "Epoch 00119 | Loss: 0.0716\n",
      "Epoch 00120 | Loss: 0.0665\n",
      "Epoch 00121 | Loss: 0.0629\n",
      "F1-Score: 0.9426\n",
      "Epoch 00122 | Loss: 0.0605\n",
      "Epoch 00123 | Loss: 0.0579\n",
      "Epoch 00124 | Loss: 0.0585\n",
      "Epoch 00125 | Loss: 0.0611\n",
      "Epoch 00126 | Loss: 0.0626\n",
      "F1-Score: 0.9420\n",
      "Epoch 00127 | Loss: 0.0682\n",
      "Epoch 00128 | Loss: 0.0777\n",
      "Epoch 00129 | Loss: 0.1010\n",
      "Epoch 00130 | Loss: 0.1031\n",
      "Epoch 00131 | Loss: 0.0891\n",
      "F1-Score: 0.9327\n",
      "Epoch 00132 | Loss: 0.0765\n",
      "Epoch 00133 | Loss: 0.0681\n",
      "Epoch 00134 | Loss: 0.0634\n",
      "Epoch 00135 | Loss: 0.0611\n",
      "Epoch 00136 | Loss: 0.0596\n",
      "F1-Score: 0.9454\n",
      "Epoch 00137 | Loss: 0.0591\n",
      "Epoch 00138 | Loss: 0.0603\n",
      "Epoch 00139 | Loss: 0.0643\n",
      "Epoch 00140 | Loss: 0.0652\n",
      "Epoch 00141 | Loss: 0.0653\n",
      "F1-Score: 0.9427\n",
      "Epoch 00142 | Loss: 0.0610\n",
      "Epoch 00143 | Loss: 0.0624\n",
      "Epoch 00144 | Loss: 0.0597\n",
      "Epoch 00145 | Loss: 0.0606\n",
      "Epoch 00146 | Loss: 0.0616\n",
      "F1-Score: 0.9450\n",
      "Epoch 00147 | Loss: 0.0612\n",
      "Epoch 00148 | Loss: 0.0613\n",
      "Epoch 00149 | Loss: 0.0622\n",
      "Epoch 00150 | Loss: 0.0603\n",
      "Epoch 00151 | Loss: 0.0590\n",
      "F1-Score: 0.9454\n",
      "Epoch 00152 | Loss: 0.0581\n",
      "Epoch 00153 | Loss: 0.0563\n",
      "Epoch 00154 | Loss: 0.0546\n",
      "Epoch 00155 | Loss: 0.0544\n",
      "Epoch 00156 | Loss: 0.0542\n",
      "F1-Score: 0.9487\n",
      "Epoch 00157 | Loss: 0.0548\n",
      "Epoch 00158 | Loss: 0.0548\n",
      "Epoch 00159 | Loss: 0.0555\n",
      "Epoch 00160 | Loss: 0.0567\n",
      "Epoch 00161 | Loss: 0.0589\n",
      "F1-Score: 0.9435\n",
      "Epoch 00162 | Loss: 0.0603\n",
      "Epoch 00163 | Loss: 0.0586\n",
      "Epoch 00164 | Loss: 0.0574\n",
      "Epoch 00165 | Loss: 0.0549\n",
      "Epoch 00166 | Loss: 0.0541\n",
      "F1-Score: 0.9486\n",
      "Epoch 00167 | Loss: 0.0530\n",
      "Epoch 00168 | Loss: 0.0545\n",
      "Epoch 00169 | Loss: 0.0586\n",
      "Epoch 00170 | Loss: 0.0622\n",
      "Epoch 00171 | Loss: 0.0645\n",
      "F1-Score: 0.9436\n",
      "Epoch 00172 | Loss: 0.0650\n",
      "Epoch 00173 | Loss: 0.0618\n",
      "Epoch 00174 | Loss: 0.0558\n",
      "Epoch 00175 | Loss: 0.0550\n",
      "Epoch 00176 | Loss: 0.0520\n",
      "F1-Score: 0.9498\n",
      "Epoch 00177 | Loss: 0.0510\n",
      "Epoch 00178 | Loss: 0.0516\n",
      "Epoch 00179 | Loss: 0.0517\n",
      "Epoch 00180 | Loss: 0.0539\n",
      "Epoch 00181 | Loss: 0.0581\n",
      "F1-Score: 0.9436\n",
      "Epoch 00182 | Loss: 0.0580\n",
      "Epoch 00183 | Loss: 0.0571\n",
      "Epoch 00184 | Loss: 0.0546\n",
      "Epoch 00185 | Loss: 0.0525\n",
      "Epoch 00186 | Loss: 0.0499\n",
      "F1-Score: 0.9522\n",
      "Epoch 00187 | Loss: 0.0493\n",
      "Epoch 00188 | Loss: 0.0518\n",
      "Epoch 00189 | Loss: 0.0540\n",
      "Epoch 00190 | Loss: 0.0559\n",
      "Epoch 00191 | Loss: 0.0595\n",
      "F1-Score: 0.9402\n",
      "Epoch 00192 | Loss: 0.0616\n",
      "Epoch 00193 | Loss: 0.0593\n",
      "Epoch 00194 | Loss: 0.0573\n",
      "Epoch 00195 | Loss: 0.0564\n",
      "Epoch 00196 | Loss: 0.0572\n",
      "F1-Score: 0.9487\n",
      "Epoch 00197 | Loss: 0.0565\n",
      "Epoch 00198 | Loss: 0.0587\n",
      "Epoch 00199 | Loss: 0.0572\n",
      "Epoch 00200 | Loss: 0.0541\n"
     ]
    }
   ],
   "source": [
    "## Student model\n",
    "student_model = StudentModel(input_size = n_features, \n",
    "                                hidden_size = 256, \n",
    "                                output_size = n_classes, num_layers = 3, num_heads = 4).to(device)\n",
    "\n",
    "### DEFINE LOSS FUNCTION AND OPTIMIZER\n",
    "optimizer = torch.optim.Adam(student_model.parameters(), lr=0.005)\n",
    "\n",
    "### TRAIN\n",
    "epoch_list, student_model_scores = train(student_model, loss_fcn, device, optimizer, max_epochs, train_dataloader, val_dataloader)"
   ]
  },
  {
   "cell_type": "markdown",
   "metadata": {
    "id": "aWatNTPBpQGY"
   },
   "source": [
    "Let's evaluate the performance of your model"
   ]
  },
  {
   "cell_type": "code",
   "execution_count": null,
   "metadata": {
    "colab": {
     "base_uri": "https://localhost:8080/",
     "height": 367
    },
    "id": "WFWMqwDuSj7b",
    "outputId": "7ca58fc6-eaf8-4f9e-f29b-66c636771ba2"
   },
   "outputs": [
    {
     "name": "stdout",
     "output_type": "stream",
     "text": [
      "Student Model : F1-Score on the test set: 0.9663\n"
     ]
    },
    {
     "data": {
      "image/png": "[encoded data removed]",
      "text/plain": [
       "<Figure size 720x360 with 1 Axes>"
      ]
     },
     "metadata": {
      "needs_background": "light"
     },
     "output_type": "display_data"
    }
   ],
   "source": [
    "score_test = evaluate(student_model, loss_fcn, device, test_dataloader)\n",
    "print(\"Student Model : F1-Score on the test set: {:.4f}\".format(score_test))\n",
    "\n",
    "def plot_f1_score(epoch_list, basic_model_scores, student_model_scores) :\n",
    "    plt.figure(figsize = [10,5])\n",
    "    plt.plot(epoch_list, basic_model_scores, 'b', label = \"Basic Model\")\n",
    "    plt.plot(epoch_list, student_model_scores, 'r', label = \"Student Model\")\n",
    "    plt.title(\"Evolution of f1 score w.r.t epochs\")\n",
    "    plt.ylim([0.0, 1.0])\n",
    "    plt.xlabel(\"Epochs\")\n",
    "    plt.ylabel(\"F1-Score\")\n",
    "    plt.legend()\n",
    "    plt.show()\n",
    "    \n",
    "plot_f1_score(epoch_list, basic_model_scores, student_model_scores)"
   ]
  },
  {
   "cell_type": "markdown",
   "metadata": {
    "id": "i9aVEYkuR3fp"
   },
   "source": [
    "## **PART 2 : QUESTIONS** (12/20)"
   ]
  },
  {
   "cell_type": "markdown",
   "metadata": {
    "id": "vZ-r6AWtR-Co"
   },
   "source": [
    "**1. Make a small paragraph that : (4pts)**\n",
    "1. Explains your achitecture and justify your choices (why the Graph Layer you chose is more efficient than the GCNLayer from the Basic Model?).\n",
    "2. Analyses your results (what is the F1-Score ? are your results convincing ? what is your position w.r.t state-of-the-art ?)."
   ]
  },
  {
   "cell_type": "markdown",
   "metadata": {
    "id": "4aiCvW4q5jRY"
   },
   "source": [
    "**1. Answer :**\n",
    "\n",
    "1. The model we having the best performances among those we tried to implement is deeply inspired by the GAT algorithm, which is described in the paper given as hint for the exercise. It consists in 3 successive GATv2Layer, which are basically an evolution correcting the static attention problem of the initial GATLayer, the attention layer described in the pre-cited article. Then the results (having the size equals to the multiplication of the hidden_size and num_heads parameters) are sent into a LeakyReLU layer and finally to a Linear layer, which is used for the final categorization of each input in the correct number of categories. We conducted a finetuning of the parameters of this model in order to define : the number of successive GATv2Layers and the number of heads to use as our model can work through the multi-head attention process. We found that the best results were found for a number of successive attention layers equals to 3 and a number of heads equals to 2.  \n",
    "The use of GATLayers (Attention layers) instead of GraphConv Layers is justified for many reaseons :\n",
    "  - Contrary to GraphConv Layers, a model with attention layers does not require to have an undirected graph. This is implied by the fact that there is no more an impact of the order of access to the graph. \n",
    "  - This model is said to be a lot more efficient, particularly because all steps of it can be parallelized across all edges.\n",
    "  - Contrary to the GraphConv model, GAT can be used in parallel with the multi-head attention mechanism, which can also increase the efficiency of our model. \n",
    "\n",
    "2. We obtained a final F1-Score equals to 0.9784 on the last run (between 0.95 and 0.98 according to the tries). This result is very good, particularly when compared to the Basic Model constructed with GCNLayer whose result is generally not far from 0.6.  \n",
    "We can compare this result with the state-of-the-art architectures proposed in the previous paper. According to it, the best model (at that time in 2018) was their GAT model (using the basic GATLayer of the torchnn package) with a benchmarked F1-score of 0.973. The model we were able to build is therefore slightly better than the 2018-top-of-the-art models. That can be explained by the similarities between the two models and also by the fact that we are using an upgraded version of the GATLayers\n",
    "Moreover, after the 200 epochs of the training process, the loss obtained with our model lies between 0.05 and 0.06, which is 10 times less than the initial loss. We see clearly that our model converges to a good solution, and therefore we may say that our results are satisfying.  \n",
    "Finally, the model we built converges also in a really short time compared to the Basic one. Indeed, after 50 epochs, the F1-score is already above 0.9 in the first case, whereas we can not identify any convergence in the second one, which seems not to have converged even after 200 epochs."
   ]
  },
  {
   "cell_type": "markdown",
   "metadata": {
    "id": "5HIVqG4u5jfc"
   },
   "source": [
    "**2. Provide a diagramm of your architecture, which includes a good and clear legend as well as shapes information. The diagramm must be submitted as an external file, along with this notebook (PDF, JEPG or PNG format accepted). (2pts)**"
   ]
  },
  {
   "cell_type": "markdown",
   "metadata": {
    "id": "crMHLjkJ5pxl"
   },
   "source": [
    "**3. Make a small paragraph that explains: (6pts)**\n",
    "1. What _oversmoothing_ is in the context of Graph Neural Network. Why is it an issue ? \n",
    "2. Are there solutions to overcome it ? \n",
    "3. Do you think the model you constructed is robust with respect to oversmoothing ? Why ?"
   ]
  },
  {
   "cell_type": "markdown",
   "metadata": {
    "id": "QLPosSov_uPK"
   },
   "source": [
    "**3. Answer :**\n",
    "\n",
    "1. Oversmoothing is a phenomenon occuring when information propagation across the graph is too strong, resulting in nodes becoming too similar in their representation. This problem mainly occurs when the network is built with too many layers, each of them being too heavily weighted. As a result, during calculations, all the nodes in the graph will lose their own caracteristics (being \"diluted\" by all the neighbouring edges) and will therefore become indistinguishable one from one another : this is explaining where the \"smoothing\" part of the name comes from.\n",
    "To conclude, oversmoothing often leads to bad (or at least worse) performances, because, with such undistinguability between nodes, the model can not work properly.\n",
    "\n",
    "2. There are several tehcniques to overcome oversmoothing, among which we can note :\n",
    "  * Using of dropout can also be used to solve it, because a random drop out of nodes during training will precisely prevent any overfitting and therefore oversmoothing by reducing the number of nodes considered in the neighbourhood of each one. \n",
    "  * Using skip connections between layers, which allow for direct information flow between layers and help to prevent the loss of node identity. \n",
    "  \n",
    "\n",
    "3. Our scheme is using the attention principle which is designed to be robust with respect to oversmoothing. Indeed, GAT uses a self-attention mechanism to weight the importance of neighboring nodes, and allows therefore the network to selectively aggregate information from neighbors based on their relevance to the target node, rather than blindly aggregating information from all neighboring nodes, which could have lead to oversmoothing as the nodes of the graph are already well-connected one to each other.  \n",
    "Finally, as explained before, oversmoothing accurs when too many layers are used in the model. In our case, the architecture of our model consists in only 4 layers (3 GATv2Conv layers and 1 Linear one), and therefore can not be considered as really deep. Therefore, even though we did not used any Dropout (which could once again reduce the risk of oversmoothing), the risk of it remains quite low."
   ]
  }
 ],
 "metadata": {
  "accelerator": "GPU",
  "colab": {
   "collapsed_sections": [
    "v5Lp4PasOby4"
   ],
   "provenance": []
  },
  "gpuClass": "standard",
  "kernelspec": {
   "display_name": "Python 3 (ipykernel)",
   "language": "python",
   "name": "python3"
  },
  "language_info": {
   "codemirror_mode": {
    "name": "ipython",
    "version": 3
   },
   "file_extension": ".py",
   "mimetype": "text/x-python",
   "name": "python",
   "nbconvert_exporter": "python",
   "pygments_lexer": "ipython3",
   "version": "3.9.12"
  }
 },
 "nbformat": 4,
 "nbformat_minor": 1
}
