{
 "cells": [
  {
   "cell_type": "markdown",
   "metadata": {
    "id": "4jVkOWmgFT1p"
   },
   "source": [
    "# **Practical session on Transfer Learning**\n",
    "This Pratical session proposes to study several techniques for improving challenging context, in which few data and resources are available."
   ]
  },
  {
   "cell_type": "markdown",
   "metadata": {},
   "source": [
    "# <center> Dargier Antoine </center>\n",
    "# <center> Douilly Thomas </center>"
   ]
  },
  {
   "cell_type": "markdown",
   "metadata": {
    "id": "QLKnIngy_2hg"
   },
   "source": [
    "# Introduction\n",
    "\n",
    "**Context :**\n",
    "\n",
    "Assume we are in a context where few \"gold\" labeled data are available for training, say \n",
    "\n",
    "$$\\mathcal{X}_{\\text{train}} = \\{(x_n,y_n)\\}_{n\\leq N_{\\text{train}}}$$\n",
    "\n",
    "where $N_{\\text{train}}$ is small. \n",
    "\n",
    "A large test set $\\mathcal{X}_{\\text{test}}$ as well as a large amount of unlabeled data, $\\mathcal{X}$, is available. We also assume that we have a limited computational budget (e.g., no GPUs).\n",
    "\n",
    "**Instructions to follow :** \n",
    "\n",
    "For each question, write a commented *Code* or a complete answer as a *Markdown*. When the objective of a question is to report a CNN accuracy, please use the following format to report it, at the end of the question :\n",
    "\n",
    "| Model | Number of  epochs  | Train accuracy | Test accuracy |\n",
    "|------|------|------|------|\n",
    "|   XXX  | XXX | XXX | XXX |\n",
    "\n",
    "If applicable, please add the field corresponding to the  __Accuracy on Full Data__ as well as a link to the __Reference paper__ you used to report those numbers. (You do not need to train a CNN on the full CIFAR10 dataset!)\n",
    "\n",
    "In your final report, please *keep the logs of each training procedure* you used. We will only run this jupyter if we have some doubts on your implementation. \n",
    "\n",
    "The total file sizes should be reasonable (feasible with 2MB only!). You will be asked to hand in the notebook, together with any necessary files required to run it if any.\n",
    "\n",
    "You can use https://colab.research.google.com/ to run your experiments."
   ]
  },
  {
   "cell_type": "code",
   "execution_count": 1,
   "metadata": {},
   "outputs": [],
   "source": [
    "import torch\n",
    "import torchvision\n",
    "from torch.utils.data import DataLoader, Subset\n",
    "import torch.nn as nn\n",
    "import torch.nn.functional as F\n",
    "import torch.optim as optim\n",
    "import torchvision.models as models\n",
    "\n",
    "import numpy as np\n",
    "import matplotlib.pyplot as plt"
   ]
  },
  {
   "cell_type": "markdown",
   "metadata": {
    "id": "YmTCQPSh_2hg"
   },
   "source": [
    "## Training set creation\n",
    "__Question 1 (2 points) :__ Propose a dataloader to obtain a training loader that will only use the first 100 samples of the CIFAR-10 training set.\n",
    "\n",
    "Additional information :  \n",
    "\n",
    "*   CIFAR10 dataset : https://en.wikipedia.org/wiki/CIFAR-10\n",
    "*   You can directly use the dataloader framework from Pytorch.\n",
    "*   Alternatively you can modify the file : https://github.com/pytorch/vision/blob/master/torchvision/datasets/cifar.py"
   ]
  },
  {
   "cell_type": "code",
   "execution_count": 2,
   "metadata": {
    "id": "uZkC5IxR_2hh"
   },
   "outputs": [
    {
     "name": "stdout",
     "output_type": "stream",
     "text": [
      "Files already downloaded and verified\n"
     ]
    }
   ],
   "source": [
    "# Load the CIFAR-10 dataset\n",
    "train_dataset = torchvision.datasets.CIFAR10(root='./data', train=True, download=True, transform=torchvision.transforms.ToTensor())\n",
    "\n",
    "# Create a subset of the first 100 samples\n",
    "train_subset = Subset(train_dataset, range(100))\n",
    "\n",
    "# Create a DataLoader for the subset\n",
    "train_loader = DataLoader(train_subset, batch_size=64, shuffle=True)\n"
   ]
  },
  {
   "cell_type": "markdown",
   "metadata": {
    "id": "fUno1nmu_2hh"
   },
   "source": [
    "* This is our dataset $\\mathcal{X}_{\\text{train}}$, it will be used until the end of this project. \n",
    "\n",
    "* The remaining samples correspond to $\\mathcal{X}$. \n",
    "\n",
    "* The testing set $\\mathcal{X}_{\\text{test}}$ corresponds to the whole testing set of CIFAR-10."
   ]
  },
  {
   "cell_type": "markdown",
   "metadata": {
    "id": "Vr0d4o5L_2hi"
   },
   "source": [
    "## Testing procedure\n",
    "__Question 2 (1.5 points):__ Explain why the evaluation of the training procedure is difficult. Propose several solutions."
   ]
  },
  {
   "cell_type": "markdown",
   "metadata": {
    "id": "ppiTrnpd_2hi"
   },
   "source": [
    "Several problems can occur when the training set is small. \n",
    "\n",
    "First, there could be a __misrepresentation of the data__ leading to imbalanced classes in our case. All the classes are not represented equally. Let's see how the classes are represented in our training set:"
   ]
  },
  {
   "cell_type": "code",
   "execution_count": 3,
   "metadata": {},
   "outputs": [
    {
     "data": {
      "text/plain": [
       "Text(0.5, 1.0, 'Representation of classes in training set')"
      ]
     },
     "execution_count": 3,
     "metadata": {},
     "output_type": "execute_result"
    },
    {
     "data": {
      "image/png": "[encoded data removed]",
      "text/plain": [
       "<Figure size 432x288 with 1 Axes>"
      ]
     },
     "metadata": {
      "needs_background": "light"
     },
     "output_type": "display_data"
    }
   ],
   "source": [
    "# Classes representation in the training set\n",
    "classes = []\n",
    "for batch in train_loader:\n",
    "    inputs, targets = batch\n",
    "    classes.extend(targets.tolist())\n",
    "\n",
    "counts = {}\n",
    "\n",
    "for value in classes:\n",
    "    if value in counts:\n",
    "        counts[value] += 1\n",
    "    else:\n",
    "        counts[value] = 1\n",
    "\n",
    "#plt.figure(figsize=(10,5))\n",
    "plt.bar(counts.keys(),counts.values())\n",
    "plt.xlabel('Classes')\n",
    "#plt.xticks(counts[0])\n",
    "plt.ylabel('Counts')\n",
    "plt.title('Representation of classes in training set')"
   ]
  },
  {
   "cell_type": "markdown",
   "metadata": {},
   "source": [
    "One solution for that can be to using oversampling. One possibility would be to randomly duplicate data points of the minority class. One popular idea for this is SMOTE (Synthetic Minority Oversampling Technique). It doesn’t create exact duplicates of data points, but data points that lie between existing minority instances. However, oversampling can result in overfitting and may increase the time needed for training. A second solution can be to use assymetric loss function. The basic idea here is to penalize misclassification of the minority class harder than the misclassification of the majority class. Bagging and Boosting are methods that can be used too to reduce prediction errors on imbalanced datasets."
   ]
  },
  {
   "cell_type": "markdown",
   "metadata": {},
   "source": [
    "One second problem is that the dataset is just __too small to allow for generalization__. In that case we neeed to create new data, increasing the size of the dataset. One solution can be Generative Adversarial Networks (GAN’s). It is a ML model capable of generating data, consisting of two competing artificial neural networks. One has the task of generating real-looking data, the other one classifies the data as real or artificial. Data augmentation can be another good idea. The basic idea is to enhance the dataset by adding slightly modified copies of already existing data points. For images, this can be done by flipping the image horizontally or vertically, cropping and/or zooming, rotating, or changing the brightness of the image. Finally one last technique can be to use Transfer Learning. Transfer learning utilized and leverages knowledge acquired from previous tasks to solve related ones. Because the models are already pre-trained, less data is needed to solve the new problems."
   ]
  },
  {
   "cell_type": "markdown",
   "metadata": {
    "id": "OEaIwILB_2hi"
   },
   "source": [
    "# The Baseline"
   ]
  },
  {
   "cell_type": "markdown",
   "metadata": {
    "id": "M-PQZ2Vl_2hi"
   },
   "source": [
    "In this section, the goal is to train a CNN on $\\mathcal{X}_{\\text{train}}$ and compare its performance with reported numbers from the litterature. You will have to re-use and/or design a standard classification pipeline. You should optimize your pipeline to obtain the best performances (image size, data augmentation by flip, ...).\n",
    "\n",
    "The key ingredients for training a CNN are the batch size, as well as the learning rate scheduler (i.e. how to decrease the learning rate as a function of the number of epochs). A possible scheduler is to start the learning rate at 0.1 and decreasing it every 30 epochs by 10. In case of divergence, reduce the learning rate. A potential batch size could be 10, yet this can be cross-validated.\n",
    "\n",
    "You can get some baselines accuracies in this paper (obviously, it is a different context for those researchers who had access to GPUs!) : http://openaccess.thecvf.com/content_cvpr_2018/papers/Keshari_Learning_Structure_and_CVPR_2018_paper.pdf. "
   ]
  },
  {
   "cell_type": "markdown",
   "metadata": {
    "id": "ARHWPXrY_2hi"
   },
   "source": [
    "## ResNet architectures"
   ]
  },
  {
   "cell_type": "markdown",
   "metadata": {
    "id": "voMbGoNw_2hj"
   },
   "source": [
    "__Question 3 (4 points) :__ Write a classification pipeline for $\\mathcal{X}_{\\text{train}}$, train from scratch and evaluate a *ResNet-18* architecture specific to CIFAR10 (details about the ImageNet model can be found here: https://arxiv.org/abs/1512.03385). Please report the accuracy obtained on the whole dataset as well as the reference paper/GitHub link.\n",
    "\n",
    "*Hint :* You can re-use the following code : https://github.com/kuangliu/pytorch-cifar. During a training of 10 epochs, a batch size of 10 and a learning rate of 0.01, one obtains 40% accuracy on $\\mathcal{X}_{\\text{train}}$ (\\~2 minutes) and 20% accuracy on $\\mathcal{X}_{\\text{test}}$ (\\~5 minutes)."
   ]
  },
  {
   "cell_type": "code",
   "execution_count": 4,
   "metadata": {
    "id": "RVHhKmWN_2hj"
   },
   "outputs": [],
   "source": [
    "#code coming from https://github.com/kuangliu/pytorch-cifar/blob/master/models/resnet.py\n",
    "\n",
    "class BasicBlock(nn.Module):\n",
    "    expansion = 1\n",
    "\n",
    "    def __init__(self, in_planes, planes, stride=1):\n",
    "        super(BasicBlock, self).__init__()\n",
    "        self.conv1 = nn.Conv2d(\n",
    "            in_planes, planes, kernel_size=3, stride=stride, padding=1, bias=False)\n",
    "        self.bn1 = nn.BatchNorm2d(planes)\n",
    "        self.conv2 = nn.Conv2d(planes, planes, kernel_size=3,\n",
    "                               stride=1, padding=1, bias=False)\n",
    "        self.bn2 = nn.BatchNorm2d(planes)\n",
    "\n",
    "        self.shortcut = nn.Sequential()\n",
    "        if stride != 1 or in_planes != self.expansion*planes:\n",
    "            self.shortcut = nn.Sequential(\n",
    "                nn.Conv2d(in_planes, self.expansion*planes,\n",
    "                          kernel_size=1, stride=stride, bias=False),\n",
    "                nn.BatchNorm2d(self.expansion*planes)\n",
    "            )\n",
    "\n",
    "    def forward(self, x):\n",
    "        out = F.relu(self.bn1(self.conv1(x)))\n",
    "        out = self.bn2(self.conv2(out))\n",
    "        out += self.shortcut(x)\n",
    "        out = F.relu(out)\n",
    "        return out\n",
    "\n",
    "class ResNet(nn.Module):\n",
    "    def __init__(self, block, num_blocks, num_classes=10):\n",
    "        super(ResNet, self).__init__()\n",
    "        self.in_planes = 64\n",
    "\n",
    "        self.conv1 = nn.Conv2d(3, 64, kernel_size=3,\n",
    "                               stride=1, padding=1, bias=False)\n",
    "        self.bn1 = nn.BatchNorm2d(64)\n",
    "        self.layer1 = self._make_layer(block, 64, num_blocks[0], stride=1)\n",
    "        self.layer2 = self._make_layer(block, 128, num_blocks[1], stride=2)\n",
    "        self.layer3 = self._make_layer(block, 256, num_blocks[2], stride=2)\n",
    "        self.layer4 = self._make_layer(block, 512, num_blocks[3], stride=2)\n",
    "        self.linear = nn.Linear(512*block.expansion, num_classes)\n",
    "\n",
    "    def _make_layer(self, block, planes, num_blocks, stride):\n",
    "        strides = [stride] + [1]*(num_blocks-1)\n",
    "        layers = []\n",
    "        for stride in strides:\n",
    "            layers.append(block(self.in_planes, planes, stride))\n",
    "            self.in_planes = planes * block.expansion\n",
    "        return nn.Sequential(*layers)\n",
    "\n",
    "    def forward(self, x):\n",
    "        out = F.relu(self.bn1(self.conv1(x)))\n",
    "        out = self.layer1(out)\n",
    "        out = self.layer2(out)\n",
    "        out = self.layer3(out)\n",
    "        out = self.layer4(out)\n",
    "        out = F.avg_pool2d(out, 4)\n",
    "        out = out.view(out.size(0), -1)\n",
    "        out = self.linear(out)\n",
    "        return out\n",
    "    \n",
    "def ResNet18():\n",
    "\n",
    "    return ResNet(BasicBlock, [2, 2, 2, 2])"
   ]
  },
  {
   "cell_type": "code",
   "execution_count": 5,
   "metadata": {},
   "outputs": [],
   "source": [
    "# code inspired by https://github.com/kuangliu/pytorch-cifar/blob/master/main.py\n",
    "\n",
    "use_cuda = torch.cuda.is_available()\n",
    "device = 'cuda' if use_cuda else 'cpu'\n",
    "\n",
    "# Training\n",
    "def train(model, epochs, train_loader, verbose = True):\n",
    "    \n",
    "    model = model.to(device)\n",
    "    if device == 'cuda':\n",
    "        net = torch.nn.DataParallel(model)\n",
    "        cudnn.benchmark = True\n",
    "        \n",
    "    criterion = torch.nn.CrossEntropyLoss()\n",
    "    optimizer = torch.optim.SGD(model.parameters(), lr=0.001, momentum=0.9)\n",
    "    scheduler = torch.optim.lr_scheduler.StepLR(optimizer, step_size=20, gamma=0.1)\n",
    "    \n",
    "    train_loss = []\n",
    "    train_acc = []\n",
    "    \n",
    "    for epoch in range(epochs): \n",
    "        model.train()\n",
    "        epoch_train_loss = 0\n",
    "        epoch_correct = 0\n",
    "        epoch_total = 0\n",
    "        for batch_idx, (inputs, targets) in enumerate(train_loader):\n",
    "            inputs, targets = inputs.to(device), targets.to(device)\n",
    "            optimizer.zero_grad()\n",
    "            outputs = model(inputs)\n",
    "            loss = criterion(outputs, targets)\n",
    "            loss.backward()\n",
    "            optimizer.step()\n",
    "            epoch_train_loss += loss.item()\n",
    "            predicted_batch = outputs.argmax(dim=1)\n",
    "            epoch_total += len(targets) \n",
    "            epoch_correct += (predicted_batch == targets).sum()\n",
    "        epoch_acc = 100 * (epoch_correct /epoch_total)\n",
    "        train_acc.append(epoch_acc.item())\n",
    "        average_epochloss = epoch_train_loss/len(train_loader)\n",
    "        train_loss.append(average_epochloss)\n",
    "\n",
    "        if verbose :\n",
    "            if epoch%5==0 or epoch==epochs-1:\n",
    "                print('Train Epoch: {} : Loss : {:.4f} / Accuracy : {:.4f} %'.format(epoch, average_epochloss,epoch_acc))\n",
    "        \n",
    "    return train_acc , train_loss\n",
    "\n",
    "# Test\n",
    "def test(model, test_loader, verbose = True):\n",
    "    \n",
    "    model.eval()\n",
    "    \n",
    "    criterion = torch.nn.CrossEntropyLoss()\n",
    "    \n",
    "    with torch.no_grad():\n",
    "        test_loss = 0\n",
    "        correct = 0\n",
    "        total = 0\n",
    "        for batch_idx, (inputs, targets) in enumerate(test_loader):\n",
    "            inputs, targets = inputs.to(device), targets.to(device)\n",
    "            outputs = model(inputs)\n",
    "            loss = criterion(outputs, targets)\n",
    "            test_loss += loss.item()\n",
    "            predicted_batch = outputs.argmax(dim=1)\n",
    "            total += len(targets) \n",
    "            correct += (predicted_batch == targets).sum()\n",
    "        test_loss = test_loss/len(test_loader)\n",
    "        test_acc = 100 * (correct/total)\n",
    "        if verbose :\n",
    "            print('Test Results :  Loss : {} / Accuracy : {} %'.format(test_loss,test_acc))\n",
    "          \n",
    "    return  test_acc"
   ]
  },
  {
   "cell_type": "code",
   "execution_count": 65,
   "metadata": {},
   "outputs": [
    {
     "name": "stdout",
     "output_type": "stream",
     "text": [
      "Files already downloaded and verified\n",
      "Files already downloaded and verified\n",
      "Train Epoch: 0 : Loss : 2.3498 / Accuracy : 11.0000 %\n",
      "Train Epoch: 5 : Loss : 0.9908 / Accuracy : 87.0000 %\n",
      "Train Epoch: 10 : Loss : 0.1658 / Accuracy : 100.0000 %\n",
      "Train Epoch: 15 : Loss : 0.0352 / Accuracy : 100.0000 %\n",
      "Train Epoch: 19 : Loss : 0.0285 / Accuracy : 100.0000 %\n",
      "Test Results :  Loss : 2.296569723367691 / Accuracy : 21.479999542236328 %\n"
     ]
    }
   ],
   "source": [
    "# Hyperparameters\n",
    "epochs = 20\n",
    "batch_size = 20\n",
    "\n",
    "# Loading train data set\n",
    "train_dataset = torchvision.datasets.CIFAR10(root='./data', train=True, download=True, transform=torchvision.transforms.ToTensor())\n",
    "train_subset = Subset(train_dataset, range(100))\n",
    "train_loader = DataLoader(train_subset, batch_size=batch_size, shuffle=True)\n",
    "\n",
    "# Loading test data set\n",
    "test_dataset = torchvision.datasets.CIFAR10(root='./data', train=False, download=True, transform=torchvision.transforms.ToTensor())\n",
    "test_loader = DataLoader(test_dataset, batch_size=batch_size, shuffle=False)\n",
    "\n",
    "model = ResNet18()\n",
    "train_acc, train_loss = train(model, epochs, train_loader)\n",
    "\n",
    "test_acc = test(model, test_loader)"
   ]
  },
  {
   "cell_type": "code",
   "execution_count": 66,
   "metadata": {},
   "outputs": [
    {
     "data": {
      "image/png": "[encoded data removed]",
      "text/plain": [
       "<Figure size 432x288 with 1 Axes>"
      ]
     },
     "metadata": {
      "needs_background": "light"
     },
     "output_type": "display_data"
    }
   ],
   "source": [
    "plt.plot(range(20), train_acc)\n",
    "plt.xlabel(\"Number of epochs\")\n",
    "plt.ylabel(\"Accuracy\")\n",
    "plt.title(\"Evolution of accuracy on training set\")\n",
    "plt.show()"
   ]
  },
  {
   "cell_type": "code",
   "execution_count": 67,
   "metadata": {},
   "outputs": [
    {
     "data": {
      "image/png": "[encoded data removed]",
      "text/plain": [
       "<Figure size 432x288 with 1 Axes>"
      ]
     },
     "metadata": {
      "needs_background": "light"
     },
     "output_type": "display_data"
    }
   ],
   "source": [
    "plt.plot(range(20), train_loss)\n",
    "plt.xlabel(\"Number of epochs\")\n",
    "plt.ylabel(\"Loss\")\n",
    "plt.title(\"Evolution of loss on training set\")\n",
    "plt.show()"
   ]
  },
  {
   "cell_type": "markdown",
   "metadata": {},
   "source": [
    "Here are our results, compared to a reference paper:"
   ]
  },
  {
   "cell_type": "markdown",
   "metadata": {},
   "source": [
    "| Paper | Model | Number of  epochs  | Train accuracy | Test accuracy |\n",
    "|:------:|:------:|:------:|:------:|:------:|\n",
    "|/|   ResNet18  | 20 | 100% | 21.48% |\n",
    "|https://tinyurl.com/Link-paper|   ResNet18  | 50 | 98% | 92.36% |\n",
    "\n",
    "\n",
    "We can here conclude that our model is clearly overfitting with a 100% accuracy on the train set, but very poor performances on the test set. We need so to find solutions to improve the performances of the model. We will first try Transfer Learning, and then Data Augmentation."
   ]
  },
  {
   "cell_type": "markdown",
   "metadata": {
    "id": "-C3mHqCk_2hj"
   },
   "source": [
    "# Transfer learning"
   ]
  },
  {
   "cell_type": "markdown",
   "metadata": {
    "id": "8Tn9pW14_2hj"
   },
   "source": [
    "We propose to use pre-trained models on a classification and generative task, in order to improve the results of our setting."
   ]
  },
  {
   "cell_type": "markdown",
   "metadata": {
    "id": "z8g_3ZDi_2hj"
   },
   "source": [
    "## ImageNet features"
   ]
  },
  {
   "cell_type": "markdown",
   "metadata": {
    "id": "PfYEhdFb_2hj"
   },
   "source": [
    "Now, we will use some pre-trained models on ImageNet and see how well they compare on CIFAR. A list is available on : https://pytorch.org/vision/stable/models.html.\n",
    "\n",
    "__Question 4 (3 points):__ Pick a model from the list above, adapt it for CIFAR10 and retrain its final layer (or a block of layers, depending on the resources to which you have access to). Report its accuracy."
   ]
  },
  {
   "cell_type": "markdown",
   "metadata": {
    "collapsed": true,
    "id": "i_lh4xje_2hk"
   },
   "source": [
    "In this part, we will try to use a ResNet34 model as baseline and retrain its final layer. We will keep the hyperparameters from last part, ie a batch size equal to 20, a momentum of 0.9 and a learning rate of 0.1 decreasing from 10 each 30 batches."
   ]
  },
  {
   "cell_type": "markdown",
   "metadata": {},
   "source": [
    "The main steps of transfer learning that we will compute are:\n",
    "* choose a pre-trained model\n",
    "* remove the last two layers\n",
    "* add two fully connected layers\n",
    "* freeze all the layers and train the two new layers for this new task\n",
    "* unfreeze the model and train the whole architecture"
   ]
  },
  {
   "cell_type": "code",
   "execution_count": 6,
   "metadata": {},
   "outputs": [],
   "source": [
    "class Net(nn.Module):\n",
    "\n",
    "    def __init__(self, model):\n",
    "        super().__init__()\n",
    "\n",
    "        # Baseline model\n",
    "        if model == \"ResNet34\":\n",
    "            self.model = models.resnet34(pretrained=True)\n",
    "        \n",
    "        # Remove last 2 layers\n",
    "        self.num_filters = self.model.fc.in_features\n",
    "        self.layers = list(self.model.children())[:-2]\n",
    "        self.backbone = nn.Sequential(*self.layers)\n",
    "\n",
    "        # Added fully connected layers \n",
    "        self.fc1 = nn.Linear(self.num_filters, 64) \n",
    "        self.fc = nn.Linear(64, 10)  \n",
    "\n",
    "    def forward(self, x):\n",
    "\n",
    "        x = self.backbone(x)\n",
    "        x = x.squeeze(3)\n",
    "        x = x.squeeze(2)\n",
    "        x = self.fc1(x)\n",
    "        x = self.fc(x)\n",
    "\n",
    "        return x"
   ]
  },
  {
   "cell_type": "code",
   "execution_count": 7,
   "metadata": {},
   "outputs": [],
   "source": [
    "def train_TL(model, epochs, verbose=True) : \n",
    "    \n",
    "    model = Net(model)\n",
    "\n",
    "    #TRAIN\n",
    "    print(\"=\"*54)\n",
    "    print(\"TRAIN\")\n",
    "\n",
    "    for param in model.parameters():\n",
    "        param.requires_grad = False\n",
    "\n",
    "    for param in model.fc.parameters():\n",
    "        param.requires_grad = True\n",
    "  \n",
    "    for param in model.fc1.parameters():\n",
    "        param.requires_grad = True\n",
    "    \n",
    "    print(\"training of last 2 layers\")\n",
    "    train_acc1 , train_loss1 = train(model, epochs, train_loader)\n",
    "    \n",
    "    for param in model.parameters():\n",
    "        param.requires_grad = True\n",
    "    print(\"training of the whole model\")\n",
    "    train_acc2 , train_loss2 = train(model,epochs, train_loader) \n",
    "\n",
    "    if verbose : \n",
    "        \n",
    "        plt.plot(range(2*epochs), train_acc1+train_acc2)\n",
    "        plt.xlabel(\"Number of epochs\")\n",
    "        plt.ylabel(\"Accuracy\")\n",
    "        plt.title(\"Evolution of accuracy on training set\")\n",
    "        plt.show()\n",
    "        \n",
    "        plt.plot(range(2*epochs), train_loss1+train_loss2)\n",
    "        plt.xlabel(\"Number of epochs\")\n",
    "        plt.ylabel(\"Loss\")\n",
    "        plt.title(\"Evolution of loss on training set\")\n",
    "        plt.show()\n",
    "\n",
    "    #TEST\n",
    "    print(\"=\"*54)\n",
    "    print(\"TEST\")\n",
    "    \n",
    "    test_accuracy = test(model, test_loader)"
   ]
  },
  {
   "cell_type": "code",
   "execution_count": 64,
   "metadata": {},
   "outputs": [
    {
     "name": "stdout",
     "output_type": "stream",
     "text": [
      "======================================================\n",
      "TRAIN\n",
      "training of last 2 layers\n",
      "Train Epoch: 0 : Loss : 2.4968 / Accuracy : 6.0000 %\n",
      "Train Epoch: 5 : Loss : 2.0494 / Accuracy : 31.0000 %\n",
      "Train Epoch: 10 : Loss : 1.7103 / Accuracy : 51.0000 %\n",
      "Train Epoch: 15 : Loss : 1.4672 / Accuracy : 59.0000 %\n",
      "Train Epoch: 20 : Loss : 1.2797 / Accuracy : 65.0000 %\n",
      "Train Epoch: 25 : Loss : 1.0539 / Accuracy : 75.0000 %\n",
      "Train Epoch: 29 : Loss : 0.9499 / Accuracy : 83.0000 %\n",
      "training of the whole model\n",
      "Train Epoch: 0 : Loss : 0.9680 / Accuracy : 79.0000 %\n",
      "Train Epoch: 5 : Loss : 0.2398 / Accuracy : 99.0000 %\n",
      "Train Epoch: 10 : Loss : 0.0522 / Accuracy : 100.0000 %\n",
      "Train Epoch: 15 : Loss : 0.0298 / Accuracy : 100.0000 %\n",
      "Train Epoch: 20 : Loss : 0.0261 / Accuracy : 100.0000 %\n",
      "Train Epoch: 25 : Loss : 0.0163 / Accuracy : 100.0000 %\n",
      "Train Epoch: 29 : Loss : 0.0228 / Accuracy : 100.0000 %\n"
     ]
    },
    {
     "data": {
      "image/png": "[encoded data removed]",
      "text/plain": [
       "<Figure size 432x288 with 1 Axes>"
      ]
     },
     "metadata": {
      "needs_background": "light"
     },
     "output_type": "display_data"
    },
    {
     "data": {
      "image/png": "[encoded data removed]",
      "text/plain": [
       "<Figure size 432x288 with 1 Axes>"
      ]
     },
     "metadata": {
      "needs_background": "light"
     },
     "output_type": "display_data"
    },
    {
     "name": "stdout",
     "output_type": "stream",
     "text": [
      "======================================================\n",
      "TEST\n",
      "Test Results :  Loss : 2.598676997184753 / Accuracy : 27.270000457763672 %\n"
     ]
    }
   ],
   "source": [
    "model = \"ResNet34\"\n",
    "train_TL(model, 30, verbose=True)"
   ]
  },
  {
   "cell_type": "markdown",
   "metadata": {},
   "source": [
    "When training a model with transfer learning, an issue can be a decreasing of accuracy when we begin to train the whole architecture. On reason can be forgetting last weights of the pretrained model: that is called catastrophic forgetting.\n",
    "\n",
    "In our case, there is a big improvement of the accuracy when training the whole model (from epoch 30). We don't have a forgetting problem, and so transfer learning is useful. That is confirmed by the results on test set, which are much better.\n",
    "\n",
    "Here are our results for the transfer learning:\n",
    "\n",
    "| Model | Number of  epochs  | Train accuracy | Test accuracy |\n",
    "|:------:|:------:|:------:|:------:|\n",
    "|   ResNet34  | 60 | 100% | 27.27% |"
   ]
  },
  {
   "cell_type": "markdown",
   "metadata": {
    "id": "SvkuMzLs_2hk"
   },
   "source": [
    "# Incorporating *a priori*\n",
    "Geometrical *a priori* are appealing for image classification tasks. For now, we only consider linear transformations $\\mathcal{T}$ of the inputs $x:\\mathbb{S}^2\\rightarrow\\mathbb{R}$ where $\\mathbb{S}$ is the support of an image, meaning that :\n",
    "\n",
    "$$\\forall u\\in\\mathbb{S}^2,\\mathcal{T}(\\lambda x+\\mu y)(u)=\\lambda \\mathcal{T}(x)(u)+\\mu \\mathcal{T}(y)(u)\\,.$$\n",
    "\n",
    "For instance if an image had an infinite support, a translation $\\mathcal{T}_a$ by $a$ would lead to :\n",
    "\n",
    "$$\\forall u, \\mathcal{T}_a(x)(u)=x(u-a)\\,.$$\n",
    "\n",
    "Otherwise, one has to handle several boundary effects.\n",
    "\n",
    "__Question 5 (1.5 points) :__ Explain the issues when dealing with translations, rotations, scaling effects, color changes on $32\\times32$ images. Propose several ideas to tackle them."
   ]
  },
  {
   "cell_type": "markdown",
   "metadata": {
    "id": "TIaY60o1_2hk"
   },
   "source": [
    "Several issues can appeared when dealing with translations, rotations, scaling effects or color changes. Here are some of these problems and ideas to tackle them:\n",
    "* translation : when dealing with translation, there can be issues with boundaries when the image is translated to far from limited boundaries. There can be also a loss of context, of alignement between elements and it can create biais if the translation occurs more importantly in a direction. For that, we can limit the range of translation, use cropping to remove any out-of-bounds objects, use interpoliation or padding.\n",
    "* rotation : rotation can distort the shapes of the images, some part (corners) can be cropped out too, and there can also be a biais if a rotation direction is priveleged. To avoid that, we can use interpolations tools and padding.\n",
    "* scaling effects : with scaling effects, one can lose some information when the images is too far from original boundaries. There can be a loss of resolutio too, distortion making elements difficult to recognize. To avoid that, we can set limits on how the images is scaled, used proportional scaling to preserve sizes of elements, and use interpolation to limit the loss od resolution.\n",
    "* color changes : changing the color in RGB, the channels are modified differently and it thus creates distorted colors. Moreover, it can create over-saturation and loss of contrast. To avoid that, we can use color normalization or histogram equalization to preserve the distribution. Another solution can be to convert the image in a well-known space of colors, such as YUV."
   ]
  },
  {
   "cell_type": "markdown",
   "metadata": {
    "id": "ds6e6teG_2hk"
   },
   "source": [
    "## Data augmentations"
   ]
  },
  {
   "cell_type": "markdown",
   "metadata": {
    "id": "-Ek5wlOo_2hk"
   },
   "source": [
    "__Question 6 (3 points):__ Propose a set of geometric transformation beyond translation, and incorporate them in your training pipeline. Train the model of the __Question 3__ with them and report the accuracies."
   ]
  },
  {
   "cell_type": "code",
   "execution_count": 8,
   "metadata": {
    "id": "FqCjrXGk_2hk"
   },
   "outputs": [],
   "source": [
    "# Data transformations implemented as https://github.com/kuangliu/pytorch-cifar/blob/master/models/resnet.py\n",
    "train_transformations = torchvision.transforms.Compose([\n",
    "                 torchvision.transforms.RandomHorizontalFlip(),\n",
    "                 torchvision.transforms.RandomCrop(size=[32,32], padding=3),\n",
    "                 torchvision.transforms.GaussianBlur(kernel_size=(3,3)),\n",
    "                 torchvision.transforms.ColorJitter(hue=.1),\n",
    "                 torchvision.transforms.ToTensor(),\n",
    "                 torchvision.transforms.Normalize((0.4914, 0.4822, 0.4465), (0.2023, 0.1994, 0.2010))\n",
    "                 ])\n",
    "\n",
    "test_transformations = torchvision.transforms.Compose([\n",
    "                 torchvision.transforms.ToTensor(),\n",
    "                 torchvision.transforms.Normalize((0.4914, 0.4822, 0.4465), (0.2023, 0.1994, 0.2010))\n",
    "                 ])"
   ]
  },
  {
   "cell_type": "code",
   "execution_count": 12,
   "metadata": {},
   "outputs": [
    {
     "name": "stdout",
     "output_type": "stream",
     "text": [
      "Files already downloaded and verified\n",
      "Files already downloaded and verified\n",
      "Train Epoch: 0 : Loss : 2.3059 / Accuracy : 14.0000 %\n",
      "Train Epoch: 5 : Loss : 1.8536 / Accuracy : 43.0000 %\n",
      "Train Epoch: 10 : Loss : 1.4469 / Accuracy : 50.0000 %\n",
      "Train Epoch: 15 : Loss : 1.0511 / Accuracy : 74.0000 %\n",
      "Train Epoch: 20 : Loss : 0.8047 / Accuracy : 78.0000 %\n",
      "Train Epoch: 25 : Loss : 0.5689 / Accuracy : 84.0000 %\n",
      "Train Epoch: 30 : Loss : 0.4061 / Accuracy : 89.0000 %\n",
      "Train Epoch: 35 : Loss : 0.3890 / Accuracy : 92.0000 %\n",
      "Train Epoch: 39 : Loss : 0.2074 / Accuracy : 95.0000 %\n",
      "Test Results :  Loss : 3.6715293483734133 / Accuracy : 24.68000030517578 %\n"
     ]
    }
   ],
   "source": [
    "epochs = 40\n",
    "batch_size = 20\n",
    "\n",
    "# Loading train data set\n",
    "train_dataset_aug = torchvision.datasets.CIFAR10(root='./data', train=True, download=True, transform=train_transformations)\n",
    "train_subset_aug = Subset(train_dataset_aug, range(100))\n",
    "train_loader_aug = DataLoader(train_subset_aug, batch_size=batch_size, shuffle=True)\n",
    "\n",
    "# Loading test data set\n",
    "test_dataset_aug = torchvision.datasets.CIFAR10(root='./data', train=False, download=True, transform=test_transformations)\n",
    "test_loader_aug = DataLoader(test_dataset_aug, batch_size=batch_size, shuffle=False)\n",
    "\n",
    "model = ResNet18()\n",
    "train_acc, train_loss = train(model, epochs, train_loader_aug)\n",
    "\n",
    "test_acc = test(model, test_loader_aug)"
   ]
  },
  {
   "cell_type": "code",
   "execution_count": 14,
   "metadata": {},
   "outputs": [
    {
     "data": {
      "image/png": "[encoded data removed]",
      "text/plain": [
       "<Figure size 432x288 with 1 Axes>"
      ]
     },
     "metadata": {
      "needs_background": "light"
     },
     "output_type": "display_data"
    }
   ],
   "source": [
    "plt.plot(range(40), train_acc)\n",
    "plt.xlabel(\"Number of epochs\")\n",
    "plt.ylabel(\"Accuracy\")\n",
    "plt.title(\"Evolution of accuracy on training set\")\n",
    "plt.show()"
   ]
  },
  {
   "cell_type": "code",
   "execution_count": 15,
   "metadata": {},
   "outputs": [
    {
     "data": {
      "image/png": "[encoded data removed]",
      "text/plain": [
       "<Figure size 432x288 with 1 Axes>"
      ]
     },
     "metadata": {
      "needs_background": "light"
     },
     "output_type": "display_data"
    }
   ],
   "source": [
    "plt.plot(range(40), train_loss)\n",
    "plt.xlabel(\"Number of epochs\")\n",
    "plt.ylabel(\"Loss\")\n",
    "plt.title(\"Evolution of loss on training set\")\n",
    "plt.show()"
   ]
  },
  {
   "cell_type": "markdown",
   "metadata": {
    "id": "HRUA5I8N_2hk"
   },
   "source": [
    "# Conclusions"
   ]
  },
  {
   "cell_type": "markdown",
   "metadata": {
    "id": "RmyiWAPJ_2hl"
   },
   "source": [
    "__Question 7 (5 points) :__ Write a short report explaining the pros and the cons of each method that you implemented. 25% of the grade of this project will correspond to this question, thus, it should be done carefully. In particular, please add a plot that will summarize all your numerical results."
   ]
  },
  {
   "cell_type": "markdown",
   "metadata": {
    "id": "zJ-v4Nev_2hl"
   },
   "source": [
    "__1) Implementation of ResNet18 from scratch__\n",
    "\n",
    "When we implement ResNet18 from scratch with our small train set, we can see that the model is clearly overfitting: we have 100% accuracy on the train set, but only 21.48% on the test set. So we need to find solutions to this issues. A first one can be transfer learning from a pretrained model ; a second one can be to try data augmentation to have a bigger train set.\n",
    "\n",
    "__2) Transfer Learning with pretrained ResNet34__\n",
    "\n",
    "After this first analysis, we try to use a pretrained model. We choose ResNet34 model, which we adapt to our task with transfer learning: we create new layers that we train alone in a first part, before learning the whole model to our task. With this method, we achieve to reach 100% accuracy on the train set, and 27.27% on the test set. We can see now that transfer learning is a good solution when train set is very small, because there is always overfitting but the results are better on the test set.\n",
    "\n",
    "__3) Data augmentation__\n",
    "\n",
    "Finally, we tried data augmentation to improve the size of our training set. We implement transformations on our data, such as andomHorizontalFlip, RandomCrop, GaussianBlur, ColorJitter. This method seems here pretty efficient, because we succeed to achieve very good performance, with 95% accuracy on our train set, and 24.68% on the test set in 40 epochs. So the performance on the train set is a little bit lower, but the generalization on the test set is better.\n",
    "\n",
    "| Model | Number of  epochs | Train accuracy | Test accuracy |\n",
    "|:------:|:------:|:------:|:------:|\n",
    "|   ResNet18 from scratch  | 20 | 100% | 21.48% |\n",
    "|   ResNet34 with Transfer Learning | 60 | 100% | 27.27% |\n",
    "|   ResNet18 with Data Augmentation  | 40 | 95% | 24.68% |\n",
    "    \n",
    "Finally, in our case, the Transfer Learning method seems to be the better regarding to the results achieved. It could be interesting to combine the different method to see if we can reach higher performances."
   ]
  },
  {
   "cell_type": "markdown",
   "metadata": {
    "id": "sAGp7ddN_2hl"
   },
   "source": [
    "# Weak supervision"
   ]
  },
  {
   "cell_type": "markdown",
   "metadata": {
    "id": "wHQRLbC3_2hl"
   },
   "source": [
    "__Bonus \\[open\\] question (up to 3 points) :__ Pick a weakly supervised method that will potentially use $\\mathcal{X}\\cup\\mathcal{X}_{\\text{train}}$ to train a representation (a subset of $\\mathcal{X}$ is also fine). Evaluate it and report the accuracies. You should be careful in the choice of your method, in order to avoid heavy computational effort."
   ]
  },
  {
   "cell_type": "markdown",
   "metadata": {
    "id": "rbjhfIvN_2hl"
   },
   "source": []
  }
 ],
 "metadata": {
  "colab": {
   "provenance": []
  },
  "kernelspec": {
   "display_name": "Python 3 (ipykernel)",
   "language": "python",
   "name": "python3"
  },
  "language_info": {
   "codemirror_mode": {
    "name": "ipython",
    "version": 3
   },
   "file_extension": ".py",
   "mimetype": "text/x-python",
   "name": "python",
   "nbconvert_exporter": "python",
   "pygments_lexer": "ipython3",
   "version": "3.9.12"
  }
 },
 "nbformat": 4,
 "nbformat_minor": 1
}
