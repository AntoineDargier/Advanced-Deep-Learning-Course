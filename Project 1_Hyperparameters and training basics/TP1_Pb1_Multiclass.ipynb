{
 "cells": [
  {
   "cell_type": "markdown",
   "metadata": {},
   "source": [
    "## Multi-classification problem\n"
   ]
  },
  {
   "cell_type": "code",
   "execution_count": null,
   "metadata": {},
   "outputs": [],
   "source": [
    "# Uncomment the next line to install packages\n",
    "# pip install torch torchvision matplotlib pandas seaborn requests "
   ]
  },
  {
   "cell_type": "code",
   "execution_count": 1,
   "metadata": {},
   "outputs": [],
   "source": [
    "import torch\n",
    "import torch.nn as nn\n",
    "import torch.nn.functional as F\n",
    "import torchvision\n",
    "import torchvision.transforms as transforms\n",
    "from torch.utils.data import DataLoader, random_split\n",
    "import requests\n",
    "import os\n",
    "\n",
    "\n",
    "import matplotlib.pyplot as plt\n",
    "\n",
    "%matplotlib inline"
   ]
  },
  {
   "cell_type": "markdown",
   "metadata": {},
   "source": [
    "## Load Data\n",
    "\n",
    "PyTorch provides two powerful data primitives: `torch.utils.data.DataLoader` and `torch.utils.data.Dataset` that allow you to use pre-loaded datasets as well as prepare your own data. `Dataset` stores the samples and their corresponding labels, and `DataLoader` wraps an iterable around the Dataset to enable easy access to the samples.\n",
    "\n",
    "### USPS Dataset\n",
    "* Handwritten digits with 10 classes\n",
    "* 16x16 pixels for each image \n",
    "* 6 000 data examples in training set, 1 291 examples in validation set, 2 007 in test set"
   ]
  },
  {
   "cell_type": "code",
   "execution_count": 2,
   "metadata": {},
   "outputs": [
    {
     "data": {
      "text/plain": [
       "6579383"
      ]
     },
     "execution_count": 2,
     "metadata": {},
     "output_type": "execute_result"
    }
   ],
   "source": [
    "url = 'https://www.csie.ntu.edu.tw/~cjlin/libsvmtools/datasets/multiclass/usps.bz2'\n",
    "r = requests.get(url, allow_redirects=True)\n",
    "if not os.path.isdir('USPS/'):\n",
    "    os.mkdir('USPS/')\n",
    "open('USPS/usps.bz2', 'wb').write(r.content)"
   ]
  },
  {
   "cell_type": "code",
   "execution_count": 3,
   "metadata": {},
   "outputs": [],
   "source": [
    "# Loading USPS dataset from torchvision.dataset\n",
    "dataset = torchvision.datasets.USPS(root='USPS/',\n",
    "                                           train=True, \n",
    "                                           transform=transforms.ToTensor(),\n",
    "                                           download=False)"
   ]
  },
  {
   "cell_type": "code",
   "execution_count": 4,
   "metadata": {},
   "outputs": [
    {
     "data": {
      "text/plain": [
       "Dataset USPS\n",
       "    Number of datapoints: 7291\n",
       "    Root location: USPS/\n",
       "    StandardTransform\n",
       "Transform: ToTensor()"
      ]
     },
     "execution_count": 4,
     "metadata": {},
     "output_type": "execute_result"
    }
   ],
   "source": [
    "# Get info from dataset\n",
    "dataset"
   ]
  },
  {
   "cell_type": "code",
   "execution_count": 5,
   "metadata": {},
   "outputs": [],
   "source": [
    "# Obtain the inputs and targets:\n",
    "inputs = dataset.data\n",
    "targets = dataset.targets"
   ]
  },
  {
   "cell_type": "code",
   "execution_count": 6,
   "metadata": {},
   "outputs": [
    {
     "name": "stdout",
     "output_type": "stream",
     "text": [
      "Sample type and shape :  <class 'numpy.ndarray'> (16, 16)\n",
      "Label type and value :  <class 'int'> 9\n"
     ]
    }
   ],
   "source": [
    "# Let's look at a data point\n",
    "sample_index = 88\n",
    "\n",
    "data_sample = dataset.data[sample_index]\n",
    "target_sample = dataset.targets[sample_index]\n",
    "print(\"Sample type and shape : \",type(data_sample),data_sample.shape)\n",
    "print(\"Label type and value : \" ,type(target_sample),target_sample)"
   ]
  },
  {
   "cell_type": "code",
   "execution_count": 7,
   "metadata": {},
   "outputs": [
    {
     "data": {
      "image/png": "[encoded data removed]",
      "text/plain": [
       "<Figure size 432x288 with 1 Axes>"
      ]
     },
     "metadata": {
      "needs_background": "light"
     },
     "output_type": "display_data"
    }
   ],
   "source": [
    "sample_index = 88\n",
    "plt.imshow(dataset.data[sample_index], cmap=plt.cm.gray_r, interpolation='nearest')\n",
    "plt.title(\"image label: %d\" % dataset.targets[sample_index])\n",
    "plt.show()"
   ]
  },
  {
   "cell_type": "markdown",
   "metadata": {},
   "source": [
    "## Pytorch Tensor"
   ]
  },
  {
   "cell_type": "markdown",
   "metadata": {},
   "source": [
    "Pytorch Documentation : https://pytorch.org/docs/stable/index.html"
   ]
  },
  {
   "cell_type": "code",
   "execution_count": 8,
   "metadata": {},
   "outputs": [
    {
     "name": "stdout",
     "output_type": "stream",
     "text": [
      "Tensor type : <class 'torch.Tensor'> , and shape :  torch.Size([16, 16])\n"
     ]
    }
   ],
   "source": [
    "tensor_data_point = torch.tensor(data_sample)\n",
    "print(\"Tensor type :\",type(tensor_data_point),\", and shape : \",tensor_data_point.shape)"
   ]
  },
  {
   "cell_type": "code",
   "execution_count": 9,
   "metadata": {},
   "outputs": [
    {
     "data": {
      "image/png": "[encoded data removed]",
      "text/plain": [
       "<Figure size 432x288 with 1 Axes>"
      ]
     },
     "metadata": {
      "needs_background": "light"
     },
     "output_type": "display_data"
    }
   ],
   "source": [
    "# Pyplot can manage torch Tensors\n",
    "plt.imshow(tensor_data_point, cmap=plt.cm.gray_r)\n",
    "plt.title(\"Tensor display\")\n",
    "plt.show()"
   ]
  },
  {
   "cell_type": "code",
   "execution_count": 10,
   "metadata": {},
   "outputs": [],
   "source": [
    "# split the dataset to training and validation sets\n",
    "train_set, val_set = random_split(dataset, [6000, 1291])"
   ]
  },
  {
   "cell_type": "markdown",
   "metadata": {},
   "source": [
    "## Build your Neural Network\n",
    "The `torch.nn` namespace provides all the building blocks you need to create your own neural network such as fully connected layers or convolutional layers etc. We define our neural network by subclassing `nn.Module`, and the neural network layers are initialized in **\\__init\\__**. Every `nn.Module` subclass implements the operations on input data in the **forward** method."
   ]
  },
  {
   "cell_type": "markdown",
   "metadata": {},
   "source": [
    "Inheritance in Python (https://www.programiz.com/python-programming/inheritance)"
   ]
  },
  {
   "cell_type": "code",
   "execution_count": 11,
   "metadata": {},
   "outputs": [],
   "source": [
    "class Model(nn.Module):\n",
    "    \n",
    "    def __init__(self):\n",
    "        super(Model, self).__init__()\n",
    "        # We allocate space for the weights\n",
    "        self.l1 = nn.Linear(16*16, 100)\n",
    "        self.l2 = nn.Linear(100, 10)\n",
    "        # Input size is 16*16, output size should be the same with the number of classes\n",
    "        \n",
    "    def forward(self, inputs): # Called when we apply the network \n",
    "        h = F.relu(self.l1(inputs)) # You can put anything, as long as its Pytorch functions\n",
    "        outputs = F.softmax(self.l2(h), dim=1)# Use softmax as the activation function for the last layer\n",
    "        return outputs"
   ]
  },
  {
   "cell_type": "markdown",
   "metadata": {},
   "source": [
    "Description of AutoGrad (https://pytorch.org/docs/stable/notes/autograd.html)"
   ]
  },
  {
   "cell_type": "markdown",
   "metadata": {},
   "source": [
    "### Instantiation and forward call"
   ]
  },
  {
   "cell_type": "code",
   "execution_count": 12,
   "metadata": {
    "scrolled": true
   },
   "outputs": [
    {
     "name": "stdout",
     "output_type": "stream",
     "text": [
      " - What is the type of my_model ? <class '__main__.Model'>\n",
      "==================================================\n",
      " - Description of the internal of the Network : Model(\n",
      "  (l1): Linear(in_features=256, out_features=100, bias=True)\n",
      "  (l2): Linear(in_features=100, out_features=10, bias=True)\n",
      ")\n",
      "==================================================\n",
      " - Content of the first Layer : Parameter containing:\n",
      "tensor([[-0.0093, -0.0156,  0.0268,  ...,  0.0593, -0.0170, -0.0230],\n",
      "        [-0.0443, -0.0167, -0.0027,  ..., -0.0157,  0.0386, -0.0597],\n",
      "        [ 0.0606, -0.0531, -0.0205,  ..., -0.0599, -0.0104,  0.0327],\n",
      "        ...,\n",
      "        [-0.0399, -0.0517,  0.0303,  ...,  0.0158,  0.0081,  0.0294],\n",
      "        [-0.0222, -0.0422, -0.0171,  ...,  0.0497, -0.0345,  0.0518],\n",
      "        [-0.0609, -0.0579, -0.0337,  ...,  0.0121, -0.0479,  0.0577]],\n",
      "       requires_grad=True)\n"
     ]
    }
   ],
   "source": [
    "# We initialize the Model class\n",
    "my_model = Model() # it calls the init method\n",
    "print(\" - What is the type of my_model ?\",type(my_model))\n",
    "print(\"=\"*50)\n",
    "print(\" - Description of the internal of the Network :\",my_model)\n",
    "print(\"=\"*50)\n",
    "print(\" - Content of the first Layer :\", my_model.l1.weight,)"
   ]
  },
  {
   "cell_type": "code",
   "execution_count": 13,
   "metadata": {},
   "outputs": [
    {
     "name": "stdout",
     "output_type": "stream",
     "text": [
      "A : torch.Size([100, 256])  b :  torch.Size([100])\n"
     ]
    }
   ],
   "source": [
    "# Shape of the Linear Layer \n",
    "print(\"A :\",my_model.l1.weight.shape,\" b : \",my_model.l1.bias.shape)"
   ]
  },
  {
   "cell_type": "code",
   "execution_count": 14,
   "metadata": {
    "scrolled": true
   },
   "outputs": [
    {
     "name": "stdout",
     "output_type": "stream",
     "text": [
      "Original tensor shape torch.Size([3, 1, 16, 16])\n",
      "==================================================\n",
      "Impact of the view method torch.Size([3, 256])\n",
      "==================================================\n",
      "Shape of the output torch.Size([3, 10])\n",
      "==================================================\n",
      "Predictions for the first image : tensor([0.0968, 0.0882, 0.0984, 0.1215, 0.0938, 0.0974, 0.1109, 0.1002, 0.1074,\n",
      "        0.0855])\n",
      "==================================================\n",
      "Sum of all outputs :  tensor(1.0000, grad_fn=<SumBackward0>)\n"
     ]
    }
   ],
   "source": [
    "# Let's explore the forward pass\n",
    "example_batch_size = 3\n",
    "example_loader = DataLoader(dataset, batch_size=example_batch_size, shuffle=True)\n",
    "\n",
    "for images,labels in example_loader:\n",
    "    print(\"Original tensor shape\",images.shape)\n",
    "    print(\"=\"*50)\n",
    "    print(\"Impact of the view method\",images.view(example_batch_size,-1).shape)\n",
    "    print(\"=\"*50)\n",
    "    example_output = my_model(images.view(example_batch_size,-1))\n",
    "    print(\"Shape of the output\",example_output.shape)\n",
    "    print(\"=\"*50)\n",
    "    print(\"Predictions for the first image :\",example_output[0].detach())\n",
    "    print(\"=\"*50)\n",
    "    print(\"Sum of all outputs : \",torch.sum(example_output[0])) # You should use detach !\n",
    "    break"
   ]
  },
  {
   "cell_type": "code",
   "execution_count": 15,
   "metadata": {},
   "outputs": [
    {
     "name": "stdout",
     "output_type": "stream",
     "text": [
      "Original Labels :  tensor([9, 7, 0])\n",
      "==================================================\n",
      "One Hot encoding : tensor([[0., 0., 0., 0., 0., 0., 0., 0., 0., 1.],\n",
      "        [0., 0., 0., 0., 0., 0., 0., 1., 0., 0.],\n",
      "        [1., 0., 0., 0., 0., 0., 0., 0., 0., 0.]])\n"
     ]
    }
   ],
   "source": [
    "# Example of One Hot Encoding\n",
    "\n",
    "labels_one_hot = torch.FloatTensor(example_batch_size, 10)\n",
    "labels_one_hot.zero_()\n",
    "print(\"Original Labels : \",labels.detach())\n",
    "print(\"=\"*50)\n",
    "print(\"One Hot encoding :\",labels_one_hot.scatter_(1, labels.view(-1, 1), 1).detach())"
   ]
  },
  {
   "cell_type": "markdown",
   "metadata": {},
   "source": [
    "## Train your Model"
   ]
  },
  {
   "cell_type": "code",
   "execution_count": 16,
   "metadata": {},
   "outputs": [],
   "source": [
    "# Create the model: \n",
    "model = Model()\n",
    "\n",
    "# Choose the hyperparameters for training: \n",
    "num_epochs = 10\n",
    "batch_size = 10\n",
    "\n",
    "# Use mean squared loss function \n",
    "criterion = nn.MSELoss()\n",
    "\n",
    "# Use SGD optimizer with a learning rate of 0.01\n",
    "# It is initialized on our model\n",
    "optimizer = torch.optim.SGD(model.parameters(), lr=0.1)"
   ]
  },
  {
   "cell_type": "code",
   "execution_count": 17,
   "metadata": {},
   "outputs": [],
   "source": [
    "# define a function for training\n",
    "def train(num_epochs, batch_size, criterion, optimizer, model, dataset):\n",
    "    train_error = []\n",
    "    train_loader = DataLoader(dataset, batch_size, shuffle=True)\n",
    "    model.train() # Indicates to the network we are in training mode\n",
    "    for epoch in range(num_epochs):\n",
    "        epoch_average_loss = 0.0\n",
    "        for (images, labels) in train_loader:\n",
    "            y_pre = model(images.view(batch_size, -1)) \n",
    "            #reshape the inputs from [N, img_shape, img_shape] to [N, img_shape*img_shape] \n",
    "            \n",
    "            # One-hot encoding or labels so as to calculate MSE error:\n",
    "            labels_one_hot = torch.FloatTensor(batch_size, 10)\n",
    "            labels_one_hot.zero_()\n",
    "            labels_one_hot.scatter_(1, labels.view(-1, 1), 1)\n",
    "            loss = criterion(y_pre, labels_one_hot) #Real number\n",
    "            optimizer.zero_grad() # Set all the parameters gradient to 0\n",
    "            loss.backward() # Computes  dloss/da for every parameter a which has requires_grad=True\n",
    "            optimizer.step() # Updates the weights \n",
    "            epoch_average_loss += loss.item() * batch_size / len(dataset)\n",
    "        train_error.append(epoch_average_loss)\n",
    "        print('Epoch [{}/{}], Loss: {:.4f}'\n",
    "                      .format(epoch+1, num_epochs, epoch_average_loss))\n",
    "    return train_error"
   ]
  },
  {
   "cell_type": "code",
   "execution_count": 18,
   "metadata": {},
   "outputs": [
    {
     "name": "stdout",
     "output_type": "stream",
     "text": [
      "Epoch [1/10], Loss: 0.0845\n",
      "Epoch [2/10], Loss: 0.0711\n",
      "Epoch [3/10], Loss: 0.0579\n",
      "Epoch [4/10], Loss: 0.0445\n",
      "Epoch [5/10], Loss: 0.0338\n",
      "Epoch [6/10], Loss: 0.0261\n",
      "Epoch [7/10], Loss: 0.0208\n",
      "Epoch [8/10], Loss: 0.0175\n",
      "Epoch [9/10], Loss: 0.0155\n",
      "Epoch [10/10], Loss: 0.0140\n"
     ]
    }
   ],
   "source": [
    "train_error = train(num_epochs, batch_size, criterion, optimizer, model, train_set)"
   ]
  },
  {
   "cell_type": "code",
   "execution_count": 19,
   "metadata": {},
   "outputs": [
    {
     "data": {
      "text/plain": [
       "Text(0.5, 1.0, 'Visualization of convergence')"
      ]
     },
     "execution_count": 19,
     "metadata": {},
     "output_type": "execute_result"
    },
    {
     "data": {
      "image/png": "[encoded data removed]",
      "text/plain": [
       "<Figure size 432x288 with 1 Axes>"
      ]
     },
     "metadata": {
      "needs_background": "light"
     },
     "output_type": "display_data"
    }
   ],
   "source": [
    "# plot the training error wrt. the number of epochs: \n",
    "plt.plot(range(1, num_epochs+1), train_error)\n",
    "plt.xlabel(\"num_epochs\")\n",
    "plt.ylabel(\"Train error\")\n",
    "plt.title(\"Visualization of convergence\")"
   ]
  },
  {
   "cell_type": "markdown",
   "metadata": {},
   "source": [
    "### Evaluate the Model on validation set"
   ]
  },
  {
   "cell_type": "code",
   "execution_count": 25,
   "metadata": {},
   "outputs": [],
   "source": [
    "# Calculate the accuracy to evaluate the model\n",
    "def accuracy(dataset, model):\n",
    "\n",
    "    with torch.no_grad():\n",
    "        correct = 0\n",
    "        total = 0\n",
    "        dataloader = DataLoader(dataset)\n",
    "        for images, labels in dataloader:\n",
    "            #images = images.view(-1, 16*16)\n",
    "            outputs = model(images)\n",
    "            _, predicted = torch.max(outputs.data, 1)  \n",
    "            correct += (predicted == labels).sum()\n",
    "\n",
    "    print('Accuracy of the model : {:.2f} %'.format(100*correct.item()/ len(dataset)))"
   ]
  },
  {
   "cell_type": "code",
   "execution_count": 23,
   "metadata": {},
   "outputs": [
    {
     "name": "stdout",
     "output_type": "stream",
     "text": [
      "Accuracy of the model : 92.18 %\n"
     ]
    }
   ],
   "source": [
    "accuracy(val_set, model)"
   ]
  },
  {
   "cell_type": "code",
   "execution_count": 24,
   "metadata": {},
   "outputs": [
    {
     "data": {
      "text/plain": [
       "Text(0.5, 1.0, 'Prediction label: 1')"
      ]
     },
     "execution_count": 24,
     "metadata": {},
     "output_type": "execute_result"
    },
    {
     "data": {
      "image/png": "[encoded data removed]",
      "text/plain": [
       "<Figure size 432x288 with 1 Axes>"
      ]
     },
     "metadata": {
      "needs_background": "light"
     },
     "output_type": "display_data"
    }
   ],
   "source": [
    "val_index = 66\n",
    "\n",
    "(image, label) = val_set[val_index]\n",
    "output = model(image.view(-1, 16*16))\n",
    "_, prediction = torch.max(output.data, 1)\n",
    "\n",
    "plt.imshow(image.view(16, 16), cmap=plt.cm.gray_r, interpolation='nearest')\n",
    "plt.title(\"Prediction label: %d\" % prediction)"
   ]
  },
  {
   "cell_type": "markdown",
   "metadata": {},
   "source": [
    "### Exercise 1: Impact of the architecture of the model\n",
    "Define your own class `Model` to improve the predictions:\n",
    "\n",
    "* The convolutional layer can be a good choice to deal with images. Replace nn.Linear with [nn.Conv2d](https://pytorch.org/docs/stable/nn.html#conv2d).\n",
    "* Try to add more layers (1, 2, 3, more ?)\n",
    "* Change the number of neurons in hidden layers (5, 10, 20, more ?)\n",
    "* Try different activation functions such as [sigmoid](https://pytorch.org/docs/stable/nn.functional.html#torch.nn.functional.sigmoid), [tanh](https://pytorch.org/docs/stable/nn.functional.html#torch.nn.functional.tanh), [relu](https://pytorch.org/docs/stable/nn.functional.html#torch.nn.functional.relu), etc."
   ]
  },
  {
   "cell_type": "code",
   "execution_count": 41,
   "metadata": {},
   "outputs": [],
   "source": [
    "class Model_L1(nn.Module):\n",
    "    \n",
    "    def __init__(self):\n",
    "        super(Model_L1, self).__init__()\n",
    "        # We allocate space for the weights\n",
    "        self.l1 = nn.Linear(16*16, 10)\n",
    "        # Input size is 16*16, output size should be the same with the number of classes\n",
    "        \n",
    "    def forward(self, inputs): # Called when we apply the network\n",
    "        x = self.l1(inputs)\n",
    "        outputs = F.softmax(x, dim=1)# Use softmax as the activation function for the last layer\n",
    "        return outputs"
   ]
  },
  {
   "cell_type": "code",
   "execution_count": 42,
   "metadata": {},
   "outputs": [],
   "source": [
    "class Model_Conv1(nn.Module):\n",
    "    \n",
    "    def __init__(self, k):\n",
    "        super(Model_Conv1, self).__init__()\n",
    "        # We allocate space for the weights\n",
    "        self.l1 = nn.Conv2d(1,1,kernel_size=k)\n",
    "        self.l2 = nn.Linear((16 - k + 1) * (16- k + 1), 10)\n",
    "        # Input size is 16*16, output size should be the same with the number of classes\n",
    "        \n",
    "    def forward(self, inputs): # Called when we apply the network\n",
    "        x = self.l1(inputs)\n",
    "        x = F.relu(x)\n",
    "        x = torch.flatten(x, start_dim=1)\n",
    "        x = self.l2(x)\n",
    "        outputs = F.softmax(x, dim=1)# Use softmax as the activation function for the last layer\n",
    "        return outputs"
   ]
  },
  {
   "cell_type": "code",
   "execution_count": 43,
   "metadata": {},
   "outputs": [],
   "source": [
    "class Model_Conv2(nn.Module):\n",
    "    \n",
    "    def __init__(self, k, l):\n",
    "        super(Model_Conv2, self).__init__()\n",
    "        # We allocate space for the weights\n",
    "        self.l1 = nn.Conv2d(1,1,kernel_size=k)\n",
    "        self.l2 = nn.Conv2d(1,1,kernel_size=l)\n",
    "        self.l3 = nn.Linear((16 - k - l + 2) * (16- k - l + 2), 10)\n",
    "        # Input size is 16*16, output size should be the same with the number of classes\n",
    "        \n",
    "    def forward(self, inputs): # Called when we apply the network\n",
    "        x = self.l1(inputs)\n",
    "        x = F.relu(x) # You can put anything, as long as its Pytorch functions\n",
    "        x = self.l2(x)\n",
    "        x = F.relu(x)\n",
    "        x = torch.flatten(x, start_dim=1)\n",
    "        x = self.l3(x)\n",
    "        outputs = F.softmax(x, dim=1)# Use softmax as the activation function for the last layer\n",
    "        return outputs"
   ]
  },
  {
   "cell_type": "code",
   "execution_count": 44,
   "metadata": {},
   "outputs": [],
   "source": [
    "class Model_Conv3(nn.Module):\n",
    "    \n",
    "    def __init__(self, k, l, m):\n",
    "        super(Model_Conv3, self).__init__()\n",
    "        # We allocate space for the weights\n",
    "        self.l1 = nn.Conv2d(1,1,kernel_size=k)\n",
    "        self.l2 = nn.Conv2d(1,1,kernel_size=l)\n",
    "        self.l3 = nn.Conv2d(1,1,kernel_size=m)\n",
    "        self.l4 = nn.Linear((16 - k - l -m + 3) * (16- k - l -m + 3), 10)\n",
    "        # Input size is 16*16, output size should be the same with the number of classes\n",
    "        \n",
    "    def forward(self, inputs): # Called when we apply the network\n",
    "        x = self.l1(inputs)\n",
    "        x = F.relu(x) # You can put anything, as long as its Pytorch functions\n",
    "        x = self.l2(x)\n",
    "        x = F.relu(x)\n",
    "        x = self.l3(x)\n",
    "        x = F.relu(x)\n",
    "        x = torch.flatten(x, start_dim=1)\n",
    "        x = self.l4(x)\n",
    "        outputs = F.softmax(x, dim=1)# Use softmax as the activation function for the last layer\n",
    "        return outputs"
   ]
  },
  {
   "cell_type": "code",
   "execution_count": 45,
   "metadata": {},
   "outputs": [],
   "source": [
    "# define a function for training\n",
    "def train(num_epochs, batch_size, criterion, optimizer, model, dataset, dim = 1):\n",
    "    train_error = []\n",
    "    train_loader = DataLoader(dataset, batch_size, shuffle=True)\n",
    "    model.train() # Indicates to the network we are in training mode\n",
    "    for epoch in range(num_epochs):\n",
    "        epoch_average_loss = 0.0\n",
    "        for (images, labels) in train_loader:\n",
    "            \n",
    "            if dim == 1:\n",
    "                y_pre = model(images.view(batch_size, -1))\n",
    "            else:\n",
    "                y_pre = model(images)\n",
    "            #reshape - if necessary - the inputs from [N, img_shape, img_shape] to [N, img_shape*img_shape] \n",
    "            \n",
    "            # One-hot encoding or labels so as to calculate MSE error:\n",
    "            labels_one_hot = torch.FloatTensor(batch_size, 10)\n",
    "            labels_one_hot.zero_()\n",
    "            labels_one_hot.scatter_(1, labels.view(-1, 1), 1)\n",
    "           \n",
    "            \n",
    "            loss = criterion(y_pre, labels_one_hot) #Real number\n",
    "            optimizer.zero_grad() # Set all the parameters gradient to 0\n",
    "            loss.backward() # Computes  dloss/da for every parameter a which has requires_grad=True\n",
    "            optimizer.step() # Updates the weights \n",
    "            epoch_average_loss += loss.item() * batch_size / len(dataset)\n",
    "        train_error.append(epoch_average_loss)\n",
    "        print('Epoch [{}/{}], Loss: {}'.format(epoch+1, num_epochs, epoch_average_loss))\n",
    "    return train_error"
   ]
  },
  {
   "cell_type": "code",
   "execution_count": 46,
   "metadata": {},
   "outputs": [
    {
     "name": "stdout",
     "output_type": "stream",
     "text": [
      "Epoch [1/10], Loss: 0.0763131102795403\n",
      "Epoch [2/10], Loss: 0.05494084898692867\n",
      "Epoch [3/10], Loss: 0.04167352528000872\n",
      "Epoch [4/10], Loss: 0.03344077732025959\n",
      "Epoch [5/10], Loss: 0.027987410969411347\n",
      "Epoch [6/10], Loss: 0.024444318703996652\n",
      "Epoch [7/10], Loss: 0.022043526906054482\n",
      "Epoch [8/10], Loss: 0.02032776156828431\n",
      "Epoch [9/10], Loss: 0.019003411126129008\n",
      "Epoch [10/10], Loss: 0.017958958167776762\n",
      "Epoch [1/10], Loss: 0.08981247770289591\n",
      "Epoch [2/10], Loss: 0.08170648620774348\n",
      "Epoch [3/10], Loss: 0.04886931308389953\n",
      "Epoch [4/10], Loss: 0.02184145188308321\n",
      "Epoch [5/10], Loss: 0.014907343840750405\n",
      "Epoch [6/10], Loss: 0.012393625454787968\n",
      "Epoch [7/10], Loss: 0.01111967586318011\n",
      "Epoch [8/10], Loss: 0.010189443760864385\n",
      "Epoch [9/10], Loss: 0.009667473238035509\n",
      "Epoch [10/10], Loss: 0.009155643484918976\n",
      "Epoch [1/10], Loss: 0.08280876853813729\n",
      "Epoch [2/10], Loss: 0.05017668856463086\n",
      "Epoch [3/10], Loss: 0.022211437875715397\n",
      "Epoch [4/10], Loss: 0.015149687127268415\n",
      "Epoch [5/10], Loss: 0.012899442181345271\n",
      "Epoch [6/10], Loss: 0.011696627066994552\n",
      "Epoch [7/10], Loss: 0.010811531617461402\n",
      "Epoch [8/10], Loss: 0.010257961850462988\n",
      "Epoch [9/10], Loss: 0.009840378638800749\n",
      "Epoch [10/10], Loss: 0.009490066695404207\n",
      "Epoch [1/10], Loss: 0.08985483787953863\n",
      "Epoch [2/10], Loss: 0.08971124010781444\n",
      "Epoch [3/10], Loss: 0.08959345073749624\n",
      "Epoch [4/10], Loss: 0.08950043606261411\n",
      "Epoch [5/10], Loss: 0.0894293636828661\n",
      "Epoch [6/10], Loss: 0.08937679383903756\n",
      "Epoch [7/10], Loss: 0.08933881246795253\n",
      "Epoch [8/10], Loss: 0.08931183134516081\n",
      "Epoch [9/10], Loss: 0.08929298182328542\n",
      "Epoch [10/10], Loss: 0.0892801715433598\n",
      "Epoch [1/10], Loss: 0.08082242355371513\n",
      "Epoch [2/10], Loss: 0.025382018544284346\n",
      "Epoch [3/10], Loss: 0.014517208610377566\n",
      "Epoch [4/10], Loss: 0.012228643458644616\n",
      "Epoch [5/10], Loss: 0.011468495041262954\n",
      "Epoch [6/10], Loss: 0.010716150470505748\n",
      "Epoch [7/10], Loss: 0.010120260196898332\n",
      "Epoch [8/10], Loss: 0.010022704602444032\n",
      "Epoch [9/10], Loss: 0.009735814969571953\n",
      "Epoch [10/10], Loss: 0.00959180654517922\n",
      "Epoch [1/10], Loss: 0.07774518434889605\n",
      "Epoch [2/10], Loss: 0.02525580580811945\n",
      "Epoch [3/10], Loss: 0.015813009025102166\n",
      "Epoch [4/10], Loss: 0.013686274558591923\n",
      "Epoch [5/10], Loss: 0.013078181286346092\n",
      "Epoch [6/10], Loss: 0.01210476308704526\n",
      "Epoch [7/10], Loss: 0.011762751627472121\n",
      "Epoch [8/10], Loss: 0.011563893890661339\n",
      "Epoch [9/10], Loss: 0.011283305898540449\n",
      "Epoch [10/10], Loss: 0.010749641188870868\n",
      "Epoch [1/10], Loss: 0.08995056997984638\n",
      "Epoch [2/10], Loss: 0.08957922666023174\n",
      "Epoch [3/10], Loss: 0.06839286062711232\n",
      "Epoch [4/10], Loss: 0.02403680452863532\n",
      "Epoch [5/10], Loss: 0.016732300191360964\n",
      "Epoch [6/10], Loss: 0.01485272811585068\n",
      "Epoch [7/10], Loss: 0.013830621477609386\n",
      "Epoch [8/10], Loss: 0.01318532326535811\n",
      "Epoch [9/10], Loss: 0.012755656121383546\n",
      "Epoch [10/10], Loss: 0.012641217243117345\n",
      "Epoch [1/10], Loss: 0.08933048147708168\n",
      "Epoch [2/10], Loss: 0.058496676903062775\n",
      "Epoch [3/10], Loss: 0.022898661122041336\n",
      "Epoch [4/10], Loss: 0.01784480442919934\n",
      "Epoch [5/10], Loss: 0.016056483933158838\n",
      "Epoch [6/10], Loss: 0.015180609611743435\n",
      "Epoch [7/10], Loss: 0.014816170103670938\n",
      "Epoch [8/10], Loss: 0.014542404923757517\n",
      "Epoch [9/10], Loss: 0.014230376739545445\n",
      "Epoch [10/10], Loss: 0.01396658890398233\n",
      "Epoch [1/10], Loss: 0.08713738355164721\n",
      "Epoch [2/10], Loss: 0.06797795567040646\n",
      "Epoch [3/10], Loss: 0.041705926007125575\n",
      "Epoch [4/10], Loss: 0.02764609859810059\n",
      "Epoch [5/10], Loss: 0.02283401724596239\n",
      "Epoch [6/10], Loss: 0.020463679242287383\n",
      "Epoch [7/10], Loss: 0.019163911421783263\n",
      "Epoch [8/10], Loss: 0.0181831441504619\n",
      "Epoch [9/10], Loss: 0.017380655440695888\n",
      "Epoch [10/10], Loss: 0.01692618556863938\n",
      "Epoch [1/10], Loss: 0.08833570316433904\n",
      "Epoch [2/10], Loss: 0.07053246494382612\n",
      "Epoch [3/10], Loss: 0.04779158127649377\n",
      "Epoch [4/10], Loss: 0.03537452682542305\n",
      "Epoch [5/10], Loss: 0.03085794183270382\n",
      "Epoch [6/10], Loss: 0.028592762403811037\n",
      "Epoch [7/10], Loss: 0.02696845422421271\n",
      "Epoch [8/10], Loss: 0.02572740383237642\n",
      "Epoch [9/10], Loss: 0.02475728560743542\n",
      "Epoch [10/10], Loss: 0.02372500739545408\n",
      "Epoch [1/10], Loss: 0.08952382422983654\n",
      "Epoch [2/10], Loss: 0.08930100108186392\n",
      "Epoch [3/10], Loss: 0.08924525254716477\n",
      "Epoch [4/10], Loss: 0.08916150080660978\n",
      "Epoch [5/10], Loss: 0.08895829334855082\n",
      "Epoch [6/10], Loss: 0.08828221304963041\n",
      "Epoch [7/10], Loss: 0.08420770013084015\n",
      "Epoch [8/10], Loss: 0.0636727517812203\n",
      "Epoch [9/10], Loss: 0.028031498422690974\n",
      "Epoch [10/10], Loss: 0.01571065636089769\n",
      "Epoch [1/10], Loss: 0.08999724256495631\n",
      "Epoch [2/10], Loss: 0.08982704199850555\n",
      "Epoch [3/10], Loss: 0.08968628469854596\n",
      "Epoch [4/10], Loss: 0.08957316368818286\n",
      "Epoch [5/10], Loss: 0.08948558249821278\n",
      "Epoch [6/10], Loss: 0.08941934620340664\n",
      "Epoch [7/10], Loss: 0.08937053804596257\n",
      "Epoch [8/10], Loss: 0.0893358039607605\n",
      "Epoch [9/10], Loss: 0.08931083980947717\n",
      "Epoch [10/10], Loss: 0.08929320512960365\n",
      "Epoch [1/10], Loss: 0.08944855877508714\n",
      "Epoch [2/10], Loss: 0.08855036959052093\n",
      "Epoch [3/10], Loss: 0.06197225947864349\n",
      "Epoch [4/10], Loss: 0.01577976335842929\n",
      "Epoch [5/10], Loss: 0.011619445456637246\n",
      "Epoch [6/10], Loss: 0.010222847587001526\n",
      "Epoch [7/10], Loss: 0.00944497277829707\n",
      "Epoch [8/10], Loss: 0.009206872400348334\n",
      "Epoch [9/10], Loss: 0.00879491104254025\n",
      "Epoch [10/10], Loss: 0.008580837329730378\n",
      "Epoch [1/10], Loss: 0.08999144724259771\n",
      "Epoch [2/10], Loss: 0.08982487991452216\n",
      "Epoch [3/10], Loss: 0.08968508978684736\n",
      "Epoch [4/10], Loss: 0.08957226342211165\n",
      "Epoch [5/10], Loss: 0.08948392296830801\n",
      "Epoch [6/10], Loss: 0.08941718008369212\n",
      "Epoch [7/10], Loss: 0.08936848986893889\n",
      "Epoch [8/10], Loss: 0.08933326341211792\n",
      "Epoch [9/10], Loss: 0.08930842225750293\n",
      "Epoch [10/10], Loss: 0.08929124205062783\n",
      "Epoch [1/10], Loss: 0.08920932038376715\n",
      "Epoch [2/10], Loss: 0.08884277341266468\n",
      "Epoch [3/10], Loss: 0.08635430667549387\n",
      "Epoch [4/10], Loss: 0.0634980658845355\n",
      "Epoch [5/10], Loss: 0.027466507382147662\n",
      "Epoch [6/10], Loss: 0.015894825847887355\n",
      "Epoch [7/10], Loss: 0.013075582109280122\n",
      "Epoch [8/10], Loss: 0.011598348375385585\n",
      "Epoch [9/10], Loss: 0.010757392762558686\n",
      "Epoch [10/10], Loss: 0.010150950259606672\n",
      "Epoch [1/10], Loss: 0.08969512506077695\n",
      "Epoch [2/10], Loss: 0.08825346431384487\n",
      "Epoch [3/10], Loss: 0.07795553624009086\n",
      "Epoch [4/10], Loss: 0.04547112078871568\n",
      "Epoch [5/10], Loss: 0.022285101451610317\n",
      "Epoch [6/10], Loss: 0.015657867228437674\n",
      "Epoch [7/10], Loss: 0.013181077496313587\n",
      "Epoch [8/10], Loss: 0.01192097705137713\n",
      "Epoch [9/10], Loss: 0.011094228238519764\n",
      "Epoch [10/10], Loss: 0.01045616620083213\n",
      "Epoch [1/10], Loss: 0.0899717188253998\n",
      "Epoch [2/10], Loss: 0.08978303017715614\n",
      "Epoch [3/10], Loss: 0.08939510681976866\n",
      "Epoch [4/10], Loss: 0.08627429049462079\n",
      "Epoch [5/10], Loss: 0.06570339187979705\n",
      "Epoch [6/10], Loss: 0.03098419659188945\n",
      "Epoch [7/10], Loss: 0.018394759144963843\n",
      "Epoch [8/10], Loss: 0.015032526343299345\n",
      "Epoch [9/10], Loss: 0.01338988734612939\n",
      "Epoch [10/10], Loss: 0.012353790855704556\n",
      "Epoch [1/10], Loss: 0.0897207765157025\n",
      "Epoch [2/10], Loss: 0.08936551777025058\n",
      "Epoch [3/10], Loss: 0.08926636441300317\n",
      "Epoch [4/10], Loss: 0.08926406747351077\n",
      "Epoch [5/10], Loss: 0.08926095856974517\n",
      "Epoch [6/10], Loss: 0.08926349612573788\n",
      "Epoch [7/10], Loss: 0.08925982958326739\n",
      "Epoch [8/10], Loss: 0.08925837811082597\n",
      "Epoch [9/10], Loss: 0.08926175352185972\n",
      "Epoch [10/10], Loss: 0.08926197074353695\n",
      "Epoch [1/10], Loss: 0.08987468589097256\n",
      "Epoch [2/10], Loss: 0.08972484553853666\n",
      "Epoch [3/10], Loss: 0.08960400233666105\n",
      "Epoch [4/10], Loss: 0.08950958230843152\n",
      "Epoch [5/10], Loss: 0.08943740249921897\n",
      "Epoch [6/10], Loss: 0.08938413882007201\n",
      "Epoch [7/10], Loss: 0.08934576399624337\n",
      "Epoch [8/10], Loss: 0.089318501514693\n",
      "Epoch [9/10], Loss: 0.08929891458402078\n",
      "Epoch [10/10], Loss: 0.08928505050639314\n",
      "Epoch [1/10], Loss: 0.08909483511000867\n",
      "Epoch [2/10], Loss: 0.06827347032027321\n",
      "Epoch [3/10], Loss: 0.017385751991484233\n",
      "Epoch [4/10], Loss: 0.01294199466041086\n",
      "Epoch [5/10], Loss: 0.01162205915095605\n",
      "Epoch [6/10], Loss: 0.010844639346404766\n",
      "Epoch [7/10], Loss: 0.01029300372879523\n",
      "Epoch [8/10], Loss: 0.009710527379795136\n",
      "Epoch [9/10], Loss: 0.00932791197300595\n",
      "Epoch [10/10], Loss: 0.00893599369349659\n",
      "Epoch [1/10], Loss: 0.08972296815365556\n",
      "Epoch [2/10], Loss: 0.08700284158190093\n",
      "Epoch [3/10], Loss: 0.0576998184761032\n"
     ]
    },
    {
     "name": "stdout",
     "output_type": "stream",
     "text": [
      "Epoch [4/10], Loss: 0.021411001559051006\n",
      "Epoch [5/10], Loss: 0.014457271758246109\n",
      "Epoch [6/10], Loss: 0.01234080525629302\n",
      "Epoch [7/10], Loss: 0.011572755494926333\n",
      "Epoch [8/10], Loss: 0.010926367254415943\n",
      "Epoch [9/10], Loss: 0.010333631927025867\n",
      "Epoch [10/10], Loss: 0.01004348596348489\n",
      "Epoch [1/10], Loss: 0.09006848548849414\n",
      "Epoch [2/10], Loss: 0.08988232529411719\n",
      "Epoch [3/10], Loss: 0.08972854513674972\n",
      "Epoch [4/10], Loss: 0.08960512839257712\n",
      "Epoch [5/10], Loss: 0.08950907534609233\n",
      "Epoch [6/10], Loss: 0.0894364529227218\n",
      "Epoch [7/10], Loss: 0.0893763665234049\n",
      "Epoch [8/10], Loss: 0.08606419836481409\n",
      "Epoch [9/10], Loss: 0.032383421985966124\n",
      "Epoch [10/10], Loss: 0.017043892502679212\n",
      "Epoch [1/10], Loss: 0.08873176599542287\n",
      "Epoch [2/10], Loss: 0.04722436150322509\n",
      "Epoch [3/10], Loss: 0.016222924586897235\n",
      "Epoch [4/10], Loss: 0.012921237271691945\n",
      "Epoch [5/10], Loss: 0.011763750098515015\n",
      "Epoch [6/10], Loss: 0.011443981035819579\n",
      "Epoch [7/10], Loss: 0.010474868597516056\n",
      "Epoch [8/10], Loss: 0.01013408566370211\n",
      "Epoch [9/10], Loss: 0.009552784668160064\n",
      "Epoch [10/10], Loss: 0.009653463776818593\n",
      "Epoch [1/10], Loss: 0.08994963114460301\n",
      "Epoch [2/10], Loss: 0.08978957937409489\n",
      "Epoch [3/10], Loss: 0.08965631660073997\n",
      "Epoch [4/10], Loss: 0.08954973207165791\n",
      "Epoch [5/10], Loss: 0.08946742253998925\n",
      "Epoch [6/10], Loss: 0.08940584645917013\n",
      "Epoch [7/10], Loss: 0.08936061106622228\n",
      "Epoch [8/10], Loss: 0.08932769432663919\n",
      "Epoch [9/10], Loss: 0.08930477055410538\n",
      "Epoch [10/10], Loss: 0.08928884225587043\n",
      "Epoch [1/10], Loss: 0.08975538308421775\n",
      "Epoch [2/10], Loss: 0.0893698182081182\n",
      "Epoch [3/10], Loss: 0.08910807423293583\n",
      "Epoch [4/10], Loss: 0.08802471215526264\n",
      "Epoch [5/10], Loss: 0.07818755464628341\n",
      "Epoch [6/10], Loss: 0.05427525480122619\n",
      "Epoch [7/10], Loss: 0.030013785802293552\n",
      "Epoch [8/10], Loss: 0.02196283964944691\n",
      "Epoch [9/10], Loss: 0.01915660980366133\n",
      "Epoch [10/10], Loss: 0.01750954470931903\n",
      "Epoch [1/10], Loss: 0.08948725377519928\n",
      "Epoch [2/10], Loss: 0.061793635692447405\n",
      "Epoch [3/10], Loss: 0.02304211041848854\n",
      "Epoch [4/10], Loss: 0.019090556805846693\n",
      "Epoch [5/10], Loss: 0.01735764119367255\n",
      "Epoch [6/10], Loss: 0.016377363087357617\n",
      "Epoch [7/10], Loss: 0.01572918434757262\n",
      "Epoch [8/10], Loss: 0.015091905605456\n",
      "Epoch [9/10], Loss: 0.014473620264314683\n",
      "Epoch [10/10], Loss: 0.014110246356320508\n",
      "Epoch [1/10], Loss: 0.08984910994768149\n",
      "Epoch [2/10], Loss: 0.08970727040121947\n",
      "Epoch [3/10], Loss: 0.08959076963365085\n",
      "Epoch [4/10], Loss: 0.08949859941999119\n",
      "Epoch [5/10], Loss: 0.08942788607130449\n",
      "Epoch [6/10], Loss: 0.08937497525165472\n",
      "Epoch [7/10], Loss: 0.08933712866157296\n",
      "Epoch [8/10], Loss: 0.0893107286343972\n",
      "Epoch [9/10], Loss: 0.08929225191473963\n",
      "Epoch [10/10], Loss: 0.08927948919435341\n",
      "Epoch [1/10], Loss: 0.08924694785227381\n",
      "Epoch [2/10], Loss: 0.08868835723648469\n",
      "Epoch [3/10], Loss: 0.07383023180688415\n",
      "Epoch [4/10], Loss: 0.020380225557200923\n",
      "Epoch [5/10], Loss: 0.012668207710739806\n",
      "Epoch [6/10], Loss: 0.010910174751763098\n",
      "Epoch [7/10], Loss: 0.010121184326655265\n",
      "Epoch [8/10], Loss: 0.00964563223653158\n",
      "Epoch [9/10], Loss: 0.009169701160092806\n",
      "Epoch [10/10], Loss: 0.009067073051231295\n",
      "Epoch [1/10], Loss: 0.08950356968988989\n",
      "Epoch [2/10], Loss: 0.08928113690266994\n",
      "Epoch [3/10], Loss: 0.0892706989993652\n",
      "Epoch [4/10], Loss: 0.08927696312467258\n",
      "Epoch [5/10], Loss: 0.08926712546497571\n",
      "Epoch [6/10], Loss: 0.08927743766456843\n",
      "Epoch [7/10], Loss: 0.08927414023627839\n",
      "Epoch [8/10], Loss: 0.08926669570306937\n",
      "Epoch [9/10], Loss: 0.08927440531551836\n",
      "Epoch [10/10], Loss: 0.08927138676246014\n",
      "Epoch [1/10], Loss: 0.08999911113331716\n",
      "Epoch [2/10], Loss: 0.08983252016206583\n",
      "Epoch [3/10], Loss: 0.08969229742884642\n",
      "Epoch [4/10], Loss: 0.0895786493023236\n",
      "Epoch [5/10], Loss: 0.08948944160093865\n",
      "Epoch [6/10], Loss: 0.08942152357349795\n",
      "Epoch [7/10], Loss: 0.08937139370789128\n",
      "Epoch [8/10], Loss: 0.08933519755800577\n",
      "Epoch [9/10], Loss: 0.08930939201265588\n",
      "Epoch [10/10], Loss: 0.08929158436755329\n",
      "Epoch [1/10], Loss: 0.08986976941426597\n",
      "Epoch [2/10], Loss: 0.08970819770048064\n",
      "Epoch [3/10], Loss: 0.08956459062794843\n",
      "Epoch [4/10], Loss: 0.08938756945232554\n",
      "Epoch [5/10], Loss: 0.08914830415199199\n",
      "Epoch [6/10], Loss: 0.08870833322405819\n",
      "Epoch [7/10], Loss: 0.08686755967636901\n",
      "Epoch [8/10], Loss: 0.07412775961682194\n",
      "Epoch [9/10], Loss: 0.040918353504190895\n",
      "Epoch [10/10], Loss: 0.01985634676568832\n",
      "Epoch [1/10], Loss: 0.08981890135755144\n",
      "Epoch [2/10], Loss: 0.08967839823414875\n",
      "Epoch [3/10], Loss: 0.08956604069719698\n",
      "Epoch [4/10], Loss: 0.08947943518559144\n",
      "Epoch [5/10], Loss: 0.0894145484765371\n",
      "Epoch [6/10], Loss: 0.08936684239655732\n",
      "Epoch [7/10], Loss: 0.08933259478459758\n",
      "Epoch [8/10], Loss: 0.08930851949999738\n",
      "Epoch [9/10], Loss: 0.08929184495160983\n",
      "Epoch [10/10], Loss: 0.0892802299559117\n",
      "Epoch [1/10], Loss: 0.0895768306776881\n",
      "Epoch [2/10], Loss: 0.08927583148082102\n",
      "Epoch [3/10], Loss: 0.08927718274295342\n",
      "Epoch [4/10], Loss: 0.08927215890338021\n",
      "Epoch [5/10], Loss: 0.08926849948863196\n",
      "Epoch [6/10], Loss: 0.08927211499462526\n",
      "Epoch [7/10], Loss: 0.08927377679695676\n",
      "Epoch [8/10], Loss: 0.08926976161698512\n",
      "Epoch [9/10], Loss: 0.08926793995002905\n",
      "Epoch [10/10], Loss: 0.08927181334545212\n",
      "Epoch [1/10], Loss: 0.08977636576940613\n",
      "Epoch [2/10], Loss: 0.0892473134274284\n",
      "Epoch [3/10], Loss: 0.08905899175753194\n",
      "Epoch [4/10], Loss: 0.0884415040165186\n",
      "Epoch [5/10], Loss: 0.08154649163906781\n",
      "Epoch [6/10], Loss: 0.05411060161578157\n",
      "Epoch [7/10], Loss: 0.02611469833354931\n",
      "Epoch [8/10], Loss: 0.018202009963570194\n",
      "Epoch [9/10], Loss: 0.015574694493188868\n",
      "Epoch [10/10], Loss: 0.014015273991280983\n",
      "Epoch [1/10], Loss: 0.08993650662402312\n",
      "Epoch [2/10], Loss: 0.08977742131799454\n",
      "Epoch [3/10], Loss: 0.08964607103417314\n",
      "Epoch [4/10], Loss: 0.08954157510151464\n",
      "Epoch [5/10], Loss: 0.0894611909240484\n",
      "Epoch [6/10], Loss: 0.0894013363247117\n",
      "Epoch [7/10], Loss: 0.089357593630751\n",
      "Epoch [8/10], Loss: 0.08932595418145263\n",
      "Epoch [9/10], Loss: 0.08930373530834919\n",
      "Epoch [10/10], Loss: 0.08928782717635228\n",
      "Epoch [1/10], Loss: 0.08996943882356077\n",
      "Epoch [2/10], Loss: 0.08980897057801489\n",
      "Epoch [3/10], Loss: 0.08967358764261008\n",
      "Epoch [4/10], Loss: 0.08956340810904911\n",
      "Epoch [5/10], Loss: 0.08947724102685846\n",
      "Epoch [6/10], Loss: 0.08941183704882862\n",
      "Epoch [7/10], Loss: 0.08936408920834456\n",
      "Epoch [8/10], Loss: 0.08932944608231379\n",
      "Epoch [9/10], Loss: 0.0893052789196373\n",
      "Epoch [10/10], Loss: 0.08928846581528589\n",
      "Epoch [1/10], Loss: 0.0894667971382538\n",
      "Epoch [2/10], Loss: 0.08929238677024842\n",
      "Epoch [3/10], Loss: 0.0892738591010373\n",
      "Epoch [4/10], Loss: 0.08928621210157867\n",
      "Epoch [5/10], Loss: 0.08927750906596575\n",
      "Epoch [6/10], Loss: 0.08929753664880985\n",
      "Epoch [7/10], Loss: 0.08927649876723685\n",
      "Epoch [8/10], Loss: 0.08927486484249424\n",
      "Epoch [9/10], Loss: 0.08928220439702275\n",
      "Epoch [10/10], Loss: 0.08926948868980021\n",
      "Epoch [1/10], Loss: 0.08989933953930933\n",
      "Epoch [2/10], Loss: 0.08974441266308233\n",
      "Epoch [3/10], Loss: 0.08961907375603921\n",
      "Epoch [4/10], Loss: 0.0895200348397096\n",
      "Epoch [5/10], Loss: 0.0894449948022763\n",
      "Epoch [6/10], Loss: 0.08938959675530593\n",
      "Epoch [7/10], Loss: 0.08934940817455457\n",
      "Epoch [8/10], Loss: 0.08932046958555778\n",
      "Epoch [9/10], Loss: 0.08929968568185975\n",
      "Epoch [10/10], Loss: 0.08928534269332876\n",
      "Epoch [1/10], Loss: 0.08983372977624332\n",
      "Epoch [2/10], Loss: 0.08969290108730399\n",
      "Epoch [3/10], Loss: 0.08957931280136108\n",
      "Epoch [4/10], Loss: 0.08949026063084599\n",
      "Epoch [5/10], Loss: 0.08942267136027418\n",
      "Epoch [6/10], Loss: 0.08937295814355212\n",
      "Epoch [7/10], Loss: 0.08933694126705342\n",
      "Epoch [8/10], Loss: 0.08931131628652418\n",
      "Epoch [9/10], Loss: 0.08929320280750594\n",
      "Epoch [10/10], Loss: 0.08928044044723106\n",
      "Epoch [1/10], Loss: 0.08962271751215062\n",
      "Epoch [2/10], Loss: 0.08928633232911436\n",
      "Epoch [3/10], Loss: 0.08927329854418833\n",
      "Epoch [4/10], Loss: 0.08927215075741216\n",
      "Epoch [5/10], Loss: 0.0892671222736439\n",
      "Epoch [6/10], Loss: 0.08926998430242152\n",
      "Epoch [7/10], Loss: 0.08927115562061472\n",
      "Epoch [8/10], Loss: 0.08926823340356345\n",
      "Epoch [9/10], Loss: 0.08927171554416423\n",
      "Epoch [10/10], Loss: 0.08926901484529183\n",
      "Epoch [1/10], Loss: 0.08985281056414046\n",
      "Epoch [2/10], Loss: 0.08970919133474425\n",
      "Epoch [3/10], Loss: 0.08959155227988955\n",
      "Epoch [4/10], Loss: 0.08949870997418953\n",
      "Epoch [5/10], Loss: 0.08942742659399906\n",
      "Epoch [6/10], Loss: 0.08937494941055783\n",
      "Epoch [7/10], Loss: 0.08933740309129158\n",
      "Epoch [8/10], Loss: 0.08931092232465736\n"
     ]
    },
    {
     "name": "stdout",
     "output_type": "stream",
     "text": [
      "Epoch [9/10], Loss: 0.0892921774337689\n",
      "Epoch [10/10], Loss: 0.08927901421984025\n",
      "Epoch [1/10], Loss: 0.08994124545405306\n",
      "Epoch [2/10], Loss: 0.08978331349790096\n",
      "Epoch [3/10], Loss: 0.08965199201057351\n",
      "Epoch [4/10], Loss: 0.08954638487348952\n",
      "Epoch [5/10], Loss: 0.08946475980182493\n",
      "Epoch [6/10], Loss: 0.0894035093486309\n",
      "Epoch [7/10], Loss: 0.0893585228050749\n",
      "Epoch [8/10], Loss: 0.08932611122727387\n",
      "Epoch [9/10], Loss: 0.08930328691999102\n",
      "Epoch [10/10], Loss: 0.08928710444519913\n",
      "Epoch [1/10], Loss: 0.08943953747550647\n",
      "Epoch [2/10], Loss: 0.0892984701072176\n",
      "Epoch [3/10], Loss: 0.08929217851410302\n",
      "Epoch [4/10], Loss: 0.08929640063395101\n",
      "Epoch [5/10], Loss: 0.0892900116617481\n",
      "Epoch [6/10], Loss: 0.08929569881409391\n",
      "Epoch [7/10], Loss: 0.0892843664934238\n",
      "Epoch [8/10], Loss: 0.08929273185630641\n",
      "Epoch [9/10], Loss: 0.08927174627780912\n",
      "Epoch [10/10], Loss: 0.08928769670426837\n",
      "Epoch [1/10], Loss: 0.09006043562044706\n",
      "Epoch [2/10], Loss: 0.0898811709508299\n",
      "Epoch [3/10], Loss: 0.08973092246800668\n",
      "Epoch [4/10], Loss: 0.08960873458534482\n",
      "Epoch [5/10], Loss: 0.08951240750650566\n",
      "Epoch [6/10], Loss: 0.08943880666047334\n",
      "Epoch [7/10], Loss: 0.08938435859978196\n",
      "Epoch [8/10], Loss: 0.08934505787988496\n",
      "Epoch [9/10], Loss: 0.08931686001519357\n",
      "Epoch [10/10], Loss: 0.08929690903673573\n",
      "Epoch [1/10], Loss: 0.08998591589430971\n",
      "Epoch [2/10], Loss: 0.08981868216147021\n",
      "Epoch [3/10], Loss: 0.089679863875111\n",
      "Epoch [4/10], Loss: 0.08956877067685132\n",
      "Epoch [5/10], Loss: 0.08948241785168647\n",
      "Epoch [6/10], Loss: 0.08941745571792126\n",
      "Epoch [7/10], Loss: 0.08936951159189144\n",
      "Epoch [8/10], Loss: 0.08933470771958431\n",
      "Epoch [9/10], Loss: 0.08931024623413877\n",
      "Epoch [10/10], Loss: 0.08929285688946635\n",
      "Epoch [1/10], Loss: 0.08941564105451111\n",
      "Epoch [2/10], Loss: 0.0892749956995249\n",
      "Epoch [3/10], Loss: 0.08926954304178554\n",
      "Epoch [4/10], Loss: 0.08926916514833762\n",
      "Epoch [5/10], Loss: 0.08926994531104966\n",
      "Epoch [6/10], Loss: 0.08927169231077044\n",
      "Epoch [7/10], Loss: 0.0892615701630712\n",
      "Epoch [8/10], Loss: 0.08926770355552438\n",
      "Epoch [9/10], Loss: 0.08926254993925482\n",
      "Epoch [10/10], Loss: 0.08926951071868329\n",
      "Epoch [1/10], Loss: 0.08985469015936061\n",
      "Epoch [2/10], Loss: 0.08971242953091865\n",
      "Epoch [3/10], Loss: 0.08959537357091904\n",
      "Epoch [4/10], Loss: 0.08950238096217304\n",
      "Epoch [5/10], Loss: 0.08943072315305478\n",
      "Epoch [6/10], Loss: 0.0893775410205125\n",
      "Epoch [7/10], Loss: 0.0893388771389922\n",
      "Epoch [8/10], Loss: 0.08931142070641118\n",
      "Epoch [9/10], Loss: 0.08929240671296917\n",
      "Epoch [10/10], Loss: 0.08927944642802091\n",
      "Epoch [1/10], Loss: 0.08956022281199695\n",
      "Epoch [2/10], Loss: 0.08941756806025909\n",
      "Epoch [3/10], Loss: 0.08939543356498082\n",
      "Epoch [4/10], Loss: 0.08936896178871398\n",
      "Epoch [5/10], Loss: 0.0893847993761301\n",
      "Epoch [6/10], Loss: 0.08935740472127995\n",
      "Epoch [7/10], Loss: 0.08935185875743626\n",
      "Epoch [8/10], Loss: 0.08936147816479213\n",
      "Epoch [9/10], Loss: 0.08935741785913714\n",
      "Epoch [10/10], Loss: 0.08935117902855072\n",
      "Epoch [1/10], Loss: 0.08995756814877201\n",
      "Epoch [2/10], Loss: 0.08979375208417567\n",
      "Epoch [3/10], Loss: 0.08965832664320864\n",
      "Epoch [4/10], Loss: 0.08955060346672934\n",
      "Epoch [5/10], Loss: 0.08946754579742745\n",
      "Epoch [6/10], Loss: 0.08940560032924011\n",
      "Epoch [7/10], Loss: 0.0893605152890086\n",
      "Epoch [8/10], Loss: 0.08932805602749198\n",
      "Epoch [9/10], Loss: 0.08930492080748088\n",
      "Epoch [10/10], Loss: 0.08928884329895176\n",
      "Epoch [1/10], Loss: 0.08994179171820486\n",
      "Epoch [2/10], Loss: 0.08978221545616788\n",
      "Epoch [3/10], Loss: 0.08965028772751482\n",
      "Epoch [4/10], Loss: 0.08954507565746712\n",
      "Epoch [5/10], Loss: 0.0894640292599797\n",
      "Epoch [6/10], Loss: 0.08940365796287872\n",
      "Epoch [7/10], Loss: 0.08935975098361575\n",
      "Epoch [8/10], Loss: 0.08932780339072147\n",
      "Epoch [9/10], Loss: 0.08930475809921816\n",
      "Epoch [10/10], Loss: 0.08928868173311158\n",
      "Epoch [1/10], Loss: 0.0893463057279587\n",
      "Epoch [2/10], Loss: 0.08866394177079209\n",
      "Epoch [3/10], Loss: 0.08080079907551413\n",
      "Epoch [4/10], Loss: 0.053253402849659334\n",
      "Epoch [5/10], Loss: 0.02753033777970511\n",
      "Epoch [6/10], Loss: 0.02012049035266196\n",
      "Epoch [7/10], Loss: 0.01776223080019311\n",
      "Epoch [8/10], Loss: 0.016359436468677213\n",
      "Epoch [9/10], Loss: 0.01523731091835847\n",
      "Epoch [10/10], Loss: 0.014351666326668542\n",
      "Epoch [1/10], Loss: 0.08969492996732399\n",
      "Epoch [2/10], Loss: 0.08548763632774357\n",
      "Epoch [3/10], Loss: 0.06362950289311503\n",
      "Epoch [4/10], Loss: 0.0333081226881283\n",
      "Epoch [5/10], Loss: 0.022258594517867703\n",
      "Epoch [6/10], Loss: 0.019092462601353555\n",
      "Epoch [7/10], Loss: 0.017467345189167312\n",
      "Epoch [8/10], Loss: 0.016309031445374184\n",
      "Epoch [9/10], Loss: 0.015564943467713118\n",
      "Epoch [10/10], Loss: 0.014877559852478354\n",
      "Epoch [1/10], Loss: 0.08956326843549811\n",
      "Epoch [2/10], Loss: 0.06280420537805183\n",
      "Epoch [3/10], Loss: 0.022584876582416973\n",
      "Epoch [4/10], Loss: 0.0186483034436958\n",
      "Epoch [5/10], Loss: 0.016890283934832634\n",
      "Epoch [6/10], Loss: 0.016042642507891284\n",
      "Epoch [7/10], Loss: 0.015409264213109666\n",
      "Epoch [8/10], Loss: 0.014810626108491829\n",
      "Epoch [9/10], Loss: 0.014507862356951286\n",
      "Epoch [10/10], Loss: 0.01426847102679527\n"
     ]
    },
    {
     "data": {
      "image/png": "[encoded data removed]",
      "text/plain": [
       "<Figure size 432x288 with 1 Axes>"
      ]
     },
     "metadata": {
      "needs_background": "light"
     },
     "output_type": "display_data"
    }
   ],
   "source": [
    "# Choose the hyperparameters for training: \n",
    "num_epochs = 10\n",
    "batch_size = 10\n",
    "\n",
    "model = Model_L1()\n",
    "# Use mean squared loss function \n",
    "criterion = nn.MSELoss()\n",
    "# Use SGD optimizer with a learning rate of 0.01\n",
    "# It is initialized on our model\n",
    "optimizer = torch.optim.SGD(model.parameters(), lr=0.1)\n",
    "train_error = train(num_epochs, batch_size, criterion, optimizer, model, train_set, 1)\n",
    "# plot the training error wrt. the number of epochs: \n",
    "plt.plot(range(1, num_epochs+1), train_error, label=f\"Modele 1Conv, k={k}\")\n",
    "plt.xlabel(\"num_epochs\")\n",
    "plt.ylabel(\"Train error\")\n",
    "plt.title(\"Visualization of convergence\")\n",
    "\n",
    "for k in range (1,10):\n",
    "    # Create the model:\n",
    "    model = Model_Conv1(k)\n",
    "    # Use mean squared loss function \n",
    "    criterion = nn.MSELoss()\n",
    "    # Use SGD optimizer with a learning rate of 0.01\n",
    "    # It is initialized on our model\n",
    "    optimizer = torch.optim.SGD(model.parameters(), lr=0.1)\n",
    "    train_error = train(num_epochs, batch_size, criterion, optimizer, model, train_set, 2)\n",
    "    # plot the training error wrt. the number of epochs: \n",
    "    plt.plot(range(1, num_epochs+1), train_error, label=f\"Modele 1Conv, k={k}\")\n",
    "    plt.xlabel(\"num_epochs\")\n",
    "    plt.ylabel(\"Train error\")\n",
    "    plt.title(\"Visualization of convergence\")\n",
    "    \n",
    "for k in range (1,5):\n",
    "    for l in range (1,5):\n",
    "        # Create the model:\n",
    "        model = Model_Conv2(k,l)\n",
    "        # Use mean squared loss function \n",
    "        criterion = nn.MSELoss()\n",
    "        # Use SGD optimizer with a learning rate of 0.01\n",
    "        # It is initialized on our model\n",
    "        optimizer = torch.optim.SGD(model.parameters(), lr=0.1)\n",
    "        train_error = train(num_epochs, batch_size, criterion, optimizer, model, train_set, 2)\n",
    "        # plot the training error wrt. the number of epochs: \n",
    "        plt.plot(range(1, num_epochs+1), train_error, label=f\"Modele 2Conv, k={k}, l={l}\")\n",
    "        plt.xlabel(\"num_epochs\")\n",
    "        plt.ylabel(\"Train error\")\n",
    "        plt.title(\"Visualization of convergence\")\n",
    "    \n",
    "for k in range (1,4):\n",
    "    for l in range (1,4):\n",
    "        for m in range (1,4):\n",
    "            # Create the model:\n",
    "            model = Model_Conv3(k,l,m)\n",
    "            # Use mean squared loss function \n",
    "            criterion = nn.MSELoss()\n",
    "            # Use SGD optimizer with a learning rate of 0.01\n",
    "            # It is initialized on our model\n",
    "            optimizer = torch.optim.SGD(model.parameters(), lr=0.1)\n",
    "            train_error = train(num_epochs, batch_size, criterion, optimizer, model, train_set, 2)\n",
    "            # plot the training error wrt. the number of epochs: \n",
    "            plt.plot(range(1, num_epochs+1), train_error, label=f\"Modele 3Conv, k={k}, l={l}, m={m}\")\n",
    "            plt.xlabel(\"num_epochs\")\n",
    "            plt.ylabel(\"Train error\")\n",
    "            plt.title(\"Visualization of convergence\")\n",
    "    \n",
    "plt.show()"
   ]
  },
  {
   "cell_type": "code",
   "execution_count": null,
   "metadata": {},
   "outputs": [],
   "source": [
    "accuracy(val_set, model)"
   ]
  },
  {
   "cell_type": "markdown",
   "metadata": {},
   "source": [
    "### Exercise 2: Impact of the optimizer\n",
    "Retrain the model by using different parameters of the optimizer; you can change its parameters in the cell initializing it, after the definition of your model.\n",
    "\n",
    "* Use different batch sizes, from 10 to 1 000 for instance\n",
    "* Try different values of the learning rate (between 0.001 and 10), and see how these impact the training process. Do all network architectures react the same way to different learning rates?\n",
    "* Change the duration of the training by increasing the number of epochs\n",
    "* Try other optimizers, such as [Adam](https://pytorch.org/docs/stable/optim.html?highlight=adam#torch.optim.Adam) or [RMSprop](https://pytorch.org/docs/stable/optim.html?highlight=rmsprop#torch.optim.RMSprop)"
   ]
  },
  {
   "cell_type": "markdown",
   "metadata": {},
   "source": [
    "### Exercise 3: Impact of the loss function\n",
    "The MSE error is rarely used in this case. The cross entropy loss can be a better choice for multi-classification problems. In pytorch, the cross entropy loss is defined by [nn.CrossEntropyLoss](https://pytorch.org/docs/stable/nn.html#crossentropyloss). Replace the MSE loss by this one to observe its impact.\n",
    "\n",
    "**Note:** In order to use nn.CrossEntropyLoss correctly, don't add an activation function to the last layer of your network. And one-hot encoding is no longer needed to calculate the loss, delete the encoding procedures in function `train`.   "
   ]
  },
  {
   "cell_type": "markdown",
   "metadata": {},
   "source": [
    "### Exercise 4: Prediction on test set\n",
    "\n",
    "Once you have a model that seems satisfying on the validation dataset, you SHOULD evaluate it on a test dataset that has never been used before, to obtain a final accuracy value."
   ]
  },
  {
   "cell_type": "code",
   "execution_count": null,
   "metadata": {},
   "outputs": [],
   "source": [
    "url = 'http://www.csie.ntu.edu.tw/~cjlin/libsvmtools/datasets/multiclass/usps.t.bz2'\n",
    "r = requests.get(url, allow_redirects=True)\n",
    "open('USPS/usps.t.bz2', 'wb').write(r.content)"
   ]
  },
  {
   "cell_type": "code",
   "execution_count": null,
   "metadata": {},
   "outputs": [],
   "source": [
    "# Loading MNIST test set from torchvision.dataset\n",
    "test_set = torchvision.datasets.USPS(root='USPS/',\n",
    "                                         train=False,\n",
    "                                         transform=transforms.ToTensor(),\n",
    "                                         download=False)"
   ]
  },
  {
   "cell_type": "code",
   "execution_count": null,
   "metadata": {},
   "outputs": [],
   "source": [
    "accuracy(test_set, model)"
   ]
  }
 ],
 "metadata": {
  "kernelspec": {
   "display_name": "Python 3 (ipykernel)",
   "language": "python",
   "name": "python3"
  },
  "language_info": {
   "codemirror_mode": {
    "name": "ipython",
    "version": 3
   },
   "file_extension": ".py",
   "mimetype": "text/x-python",
   "name": "python",
   "nbconvert_exporter": "python",
   "pygments_lexer": "ipython3",
   "version": "3.9.12"
  },
  "vscode": {
   "interpreter": {
    "hash": "ba5ba4c049791c3047b698a7cd400296017c86ac9307a8bdfda620d9863f10c7"
   }
  }
 },
 "nbformat": 4,
 "nbformat_minor": 2
}
